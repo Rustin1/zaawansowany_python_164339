{
  "nbformat": 4,
  "nbformat_minor": 0,
  "metadata": {
    "colab": {
      "provenance": []
    },
    "kernelspec": {
      "name": "python3",
      "display_name": "Python 3"
    },
    "language_info": {
      "name": "python"
    }
  },
  "cells": [
    {
      "cell_type": "markdown",
      "source": [
        "##Zadanie 1: Porównanie czasu inicjalizacji, dostępu i insertów"
      ],
      "metadata": {
        "id": "56NUIphNZNQv"
      }
    },
    {
      "cell_type": "code",
      "execution_count": 11,
      "metadata": {
        "colab": {
          "base_uri": "https://localhost:8080/"
        },
        "id": "7M-_ZIVSZGQo",
        "outputId": "3a55eeea-831d-4e55-9998-7a65b4468053"
      },
      "outputs": [
        {
          "output_type": "stream",
          "name": "stdout",
          "text": [
            "Inicjalizacja array('i'): 0.765241s\n",
            "Inicjalizacja list(int): 0.170183s\n",
            "Inicjalizacja array('u'): 0.003722s\n",
            "Inicjalizacja list(str): 0.025459s\n",
            "Dostęp array('i'): 0.087039s\n",
            "Dostęp list(int): 0.035098s\n",
            "Insert array('i'): 0.001345s\n",
            "Insert list(int): 0.004134s\n"
          ]
        }
      ],
      "source": [
        "from array import array\n",
        "from timeit import timeit\n",
        "\n",
        "# Setup\n",
        "setup_i = \"from array import array; arr = array('i', range(10000))\"\n",
        "setup_list_i = \"lst = list(range(10000))\"\n",
        "setup_w = \"from array import array; arr = array('u', 'a'*10000)\"\n",
        "setup_list_w = \"lst = ['a']*10000\"\n",
        "\n",
        "# Czas inicjalizacji\n",
        "init_array_i = timeit(\"array('i', range(10000))\", setup=\"from array import array\", number=1000)\n",
        "init_list_i = timeit(\"list(range(10000))\", number=1000)\n",
        "\n",
        "init_array_w = timeit(\"array('u', 'a'*10000)\", setup=\"from array import array\", number=1000)\n",
        "init_list_w = timeit(\"['a']*10000\", number=1000)\n",
        "\n",
        "# Czas dostępu\n",
        "access_array_i = timeit(\"arr[5000]\", setup=setup_i, number=1_000_000)\n",
        "access_list_i = timeit(\"lst[5000]\", setup=setup_list_i, number=1_000_000)\n",
        "\n",
        "# Insert (dla array tylko na końcu, bo insert na środku może być powolny)\n",
        "insert_array = timeit(\"arr.insert(0, 123)\", setup=setup_i, number=1000)\n",
        "insert_list = timeit(\"lst.insert(0, 123)\", setup=setup_list_i, number=1000)\n",
        "\n",
        "print(f\"Inicjalizacja array('i'): {init_array_i:.6f}s\")\n",
        "print(f\"Inicjalizacja list(int): {init_list_i:.6f}s\")\n",
        "print(f\"Inicjalizacja array('u'): {init_array_w:.6f}s\")\n",
        "print(f\"Inicjalizacja list(str): {init_list_w:.6f}s\")\n",
        "\n",
        "print(f\"Dostęp array('i'): {access_array_i:.6f}s\")\n",
        "print(f\"Dostęp list(int): {access_list_i:.6f}s\")\n",
        "\n",
        "print(f\"Insert array('i'): {insert_array:.6f}s\")\n",
        "print(f\"Insert list(int): {insert_list:.6f}s\")\n"
      ]
    },
    {
      "cell_type": "markdown",
      "source": [
        "## Zadanie 2: Pomiar czasu zapisu i odczytu danych (tablica vs. lista)"
      ],
      "metadata": {
        "id": "4sJM-QlsZNhu"
      }
    },
    {
      "cell_type": "code",
      "source": [
        "from array import array\n",
        "import random\n",
        "import datetime\n",
        "\n",
        "# Array\n",
        "arr = array('f', [random.random() for _ in range(1_000_000)])\n",
        "start = datetime.datetime.now()\n",
        "with open(\"array_file.bin\", \"wb\") as f:\n",
        "    arr.tofile(f)\n",
        "with open(\"array_file.bin\", \"rb\") as f:\n",
        "    loaded_arr = array('f')\n",
        "    loaded_arr.fromfile(f, 1_000_000)\n",
        "end = datetime.datetime.now()\n",
        "array_time = end - start\n",
        "\n",
        "# List\n",
        "lst = [random.random() for _ in range(1_000_000)]\n",
        "start = datetime.datetime.now()\n",
        "with open(\"list_file.txt\", \"w\") as f:\n",
        "    f.writelines('\\n'.join(map(str, lst)))\n",
        "with open(\"list_file.txt\", \"r\") as f:\n",
        "    loaded_list = [float(x.strip()) for x in f.readlines()]\n",
        "end = datetime.datetime.now()\n",
        "list_time = end - start\n",
        "\n",
        "print(f\"Czas zapisu i odczytu tablicy: {array_time}\")\n",
        "print(f\"Czas zapisu i odczytu listy:   {list_time}\")\n"
      ],
      "metadata": {
        "colab": {
          "base_uri": "https://localhost:8080/"
        },
        "id": "DfZUacWMZNxv",
        "outputId": "82646b4c-01aa-4f09-d6c5-e76709dd8ae4"
      },
      "execution_count": 12,
      "outputs": [
        {
          "output_type": "stream",
          "name": "stdout",
          "text": [
            "Czas zapisu i odczytu tablicy: 0:00:00.012831\n",
            "Czas zapisu i odczytu listy:   0:00:03.834362\n"
          ]
        }
      ]
    },
    {
      "cell_type": "markdown",
      "source": [
        "## Zadanie 3: Funkcja wieku i urodzin"
      ],
      "metadata": {
        "id": "anPyZZavZOje"
      }
    },
    {
      "cell_type": "code",
      "source": [
        "import datetime\n",
        "from dateutil.relativedelta import relativedelta\n",
        "\n",
        "def wiek_info(data_urodzenia: str):\n",
        "    urodziny = datetime.datetime.strptime(data_urodzenia, \"%Y-%m-%d\").date()\n",
        "    dzisiaj = datetime.date.today()\n",
        "\n",
        "    wiek = relativedelta(dzisiaj, urodziny)\n",
        "    dni_zycia = (dzisiaj - urodziny).days\n",
        "\n",
        "    # Najbliższe urodziny\n",
        "    najblizsze = datetime.date(dzisiaj.year, urodziny.month, urodziny.day)\n",
        "    if najblizsze < dzisiaj:\n",
        "        najblizsze = datetime.date(dzisiaj.year + 1, urodziny.month, urodziny.day)\n",
        "\n",
        "    do_urodzin = relativedelta(najblizsze, dzisiaj)\n",
        "    od_poprzednich = relativedelta(dzisiaj, najblizsze - relativedelta(years=1))\n",
        "\n",
        "    print(f\"Witaj! Na dzień dzisiejszy masz {wiek.years} lat, {wiek.months} miesięcy oraz {wiek.days} dni.\")\n",
        "    print(f\"Razem daje to imponujące {dni_zycia} dni!\")\n",
        "    print(f\"Twoje najbliższe urodziny będą miały miejsce w dniu {najblizsze} czyli za {do_urodzin.months} miesięcy oraz {do_urodzin.days} dni.\")\n",
        "    print(f\"Od poprzednich urodzin minęło {od_poprzednich.months} miesięcy i {od_poprzednich.days} dni.\")\n",
        "\n",
        "# Przykład\n",
        "wiek_info(\"1969-01-14\")\n"
      ],
      "metadata": {
        "colab": {
          "base_uri": "https://localhost:8080/"
        },
        "id": "11D0jdZFZOU-",
        "outputId": "c385edf4-47c3-474b-8187-c7346cc93b88"
      },
      "execution_count": 19,
      "outputs": [
        {
          "output_type": "stream",
          "name": "stdout",
          "text": [
            "Witaj! Na dzień dzisiejszy masz 56 lat, 3 miesięcy oraz 29 dni.\n",
            "Razem daje to imponujące 20573 dni!\n",
            "Twoje najbliższe urodziny będą miały miejsce w dniu 2026-01-14 czyli za 8 miesięcy oraz 1 dni.\n",
            "Od poprzednich urodzin minęło 3 miesięcy i 29 dni.\n"
          ]
        }
      ]
    },
    {
      "cell_type": "markdown",
      "source": [
        "## Zadanie 4: Analiza dat w zamowienia.csv (bez Pandas)"
      ],
      "metadata": {
        "id": "1--KHXUVZOFm"
      }
    },
    {
      "cell_type": "code",
      "source": [
        "import csv\n",
        "import datetime\n",
        "\n",
        "daty = []\n",
        "\n",
        "with open(\"zamowienia.csv\", encoding=\"utf-8\") as f:\n",
        "    reader = csv.DictReader(f, delimiter=\";\")\n",
        "    for row in reader:\n",
        "        data = row[\"Data zamowienia\"]\n",
        "        try:\n",
        "            parsed = datetime.datetime.strptime(data, \"%Y-%m-%d\").date()\n",
        "            daty.append(parsed)\n",
        "        except ValueError:\n",
        "            continue\n",
        "\n",
        "najstarsza = min(daty)\n",
        "najnowsza = max(daty)\n",
        "roznica = (najnowsza - najstarsza).days\n",
        "\n",
        "print(f\"Najstarsza data: {najstarsza}\")\n",
        "print(f\"Najnowsza data: {najnowsza}\")\n",
        "print(f\"Różnica dni: {roznica}\")\n"
      ],
      "metadata": {
        "colab": {
          "base_uri": "https://localhost:8080/"
        },
        "id": "pazkR-WIZQdW",
        "outputId": "54405fae-fdfe-40c7-a466-4fc1d96b20af"
      },
      "execution_count": 14,
      "outputs": [
        {
          "output_type": "stream",
          "name": "stdout",
          "text": [
            "Najstarsza data: 2003-07-10\n",
            "Najnowsza data: 2005-05-01\n",
            "Różnica dni: 661\n"
          ]
        }
      ]
    }
  ]
}