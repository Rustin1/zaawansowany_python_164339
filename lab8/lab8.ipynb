{
  "nbformat": 4,
  "nbformat_minor": 0,
  "metadata": {
    "colab": {
      "provenance": []
    },
    "kernelspec": {
      "name": "python3",
      "display_name": "Python 3"
    },
    "language_info": {
      "name": "python"
    }
  },
  "cells": [
    {
      "cell_type": "markdown",
      "source": [
        "## **Zadanie 1: Iterator zwracający tylko elementy z parzystych indeksów sekwencji**"
      ],
      "metadata": {
        "id": "pfQfM6Xs6fOz"
      }
    },
    {
      "cell_type": "code",
      "execution_count": 8,
      "metadata": {
        "colab": {
          "base_uri": "https://localhost:8080/"
        },
        "id": "x6cyuIEQ6NHh",
        "outputId": "9d59c828-cb2c-400e-b64a-a697b4992617"
      },
      "outputs": [
        {
          "output_type": "stream",
          "name": "stdout",
          "text": [
            "[10, 12, 14]\n"
          ]
        }
      ],
      "source": [
        "class EvenIndexIterator:\n",
        "    def __init__(self, sequence):\n",
        "        self.sequence = sequence\n",
        "        self.index = 0\n",
        "\n",
        "    def __iter__(self):\n",
        "        return self\n",
        "\n",
        "    def __next__(self):\n",
        "        if self.index >= len(self.sequence):\n",
        "            raise StopIteration\n",
        "        value = self.sequence[self.index]\n",
        "        self.index += 2\n",
        "        return value\n",
        "\n",
        "# Przykład użycia:\n",
        "it = EvenIndexIterator([10, 11, 12, 13, 14])\n",
        "print(list(it))  # [10, 12, 14]\n"
      ]
    },
    {
      "cell_type": "markdown",
      "source": [
        "## **Zadanie 2: Iterator generujący liczby pierwsze**"
      ],
      "metadata": {
        "id": "vP5dgJ5b6egw"
      }
    },
    {
      "cell_type": "code",
      "source": [
        "class PrimeIterator:\n",
        "    def __init__(self):\n",
        "        self.num = 1\n",
        "\n",
        "    def __iter__(self):\n",
        "        return self\n",
        "\n",
        "    def __next__(self):\n",
        "        self.num += 1\n",
        "        while not self.is_prime(self.num):\n",
        "            self.num += 1\n",
        "        return self.num\n",
        "\n",
        "    @staticmethod\n",
        "    def is_prime(n):\n",
        "        if n < 2:\n",
        "            return False\n",
        "        for i in range(2, int(n ** 0.5) + 1):\n",
        "            if n % i == 0:\n",
        "                return False\n",
        "        return True\n",
        "\n",
        "# Przykład użycia:\n",
        "prime_gen = PrimeIterator()\n",
        "for _ in range(10):\n",
        "    print(next(prime_gen))  # 2, 3, 5, 7, 11, 13, 17, 19, 23, 29"
      ],
      "metadata": {
        "colab": {
          "base_uri": "https://localhost:8080/"
        },
        "id": "wiS9WchC66SB",
        "outputId": "d64eb8d6-6971-4f61-9e72-533db7fd8622"
      },
      "execution_count": 9,
      "outputs": [
        {
          "output_type": "stream",
          "name": "stdout",
          "text": [
            "2\n",
            "3\n",
            "5\n",
            "7\n",
            "11\n",
            "13\n",
            "17\n",
            "19\n",
            "23\n",
            "29\n"
          ]
        }
      ]
    },
    {
      "cell_type": "markdown",
      "source": [
        "## **Zadanie 3: Nieskończony iterator nazw dni tygodnia (PL), z możliwością wyboru startu**"
      ],
      "metadata": {
        "id": "x3Wb2cz56_F2"
      }
    },
    {
      "cell_type": "code",
      "source": [
        "class WeekdayIterator:\n",
        "    dni = [\"poniedziałek\", \"wtorek\", \"środa\", \"czwartek\", \"piątek\", \"sobota\", \"niedziela\"]\n",
        "\n",
        "    def __init__(self, start_index=0):\n",
        "        self.index = start_index % 7\n",
        "\n",
        "    def __iter__(self):\n",
        "        return self\n",
        "\n",
        "    def __next__(self):\n",
        "        result = self.dni[self.index]\n",
        "        self.index = (self.index + 1) % 7\n",
        "        return result\n",
        "\n",
        "# Przykład użycia:\n",
        "dni = WeekdayIterator(3)\n",
        "for _ in range(10):\n",
        "    print(next(dni))  # zaczyna od \"czwartek\""
      ],
      "metadata": {
        "colab": {
          "base_uri": "https://localhost:8080/"
        },
        "id": "C6ACh5z57Eq8",
        "outputId": "83ce3785-765a-4b35-e323-cbb71a69a619"
      },
      "execution_count": 10,
      "outputs": [
        {
          "output_type": "stream",
          "name": "stdout",
          "text": [
            "czwartek\n",
            "piątek\n",
            "sobota\n",
            "niedziela\n",
            "poniedziałek\n",
            "wtorek\n",
            "środa\n",
            "czwartek\n",
            "piątek\n",
            "sobota\n"
          ]
        }
      ]
    },
    {
      "cell_type": "markdown",
      "source": [
        "## **Zadanie 4: Iterator zwracający słowa z tekstu za pomocą wyrażeń regularnych**"
      ],
      "metadata": {
        "id": "hNeb_QKW7f43"
      }
    },
    {
      "cell_type": "code",
      "source": [
        "import re\n",
        "\n",
        "class WordIterator:\n",
        "    def __init__(self, text):\n",
        "        self.words = re.findall(r'\\b\\w+\\b', text)\n",
        "        self.index = 0\n",
        "\n",
        "    def __iter__(self):\n",
        "        return self\n",
        "\n",
        "    def __next__(self):\n",
        "        if self.index >= len(self.words):\n",
        "            raise StopIteration\n",
        "        word = self.words[self.index]\n",
        "        self.index += 1\n",
        "        return word\n",
        "\n",
        "# Przykład:\n",
        "text = \"To jest przykładowy tekst, z którego wyciągamy słowa!\"\n",
        "it = WordIterator(text)\n",
        "print(list(it))  # ['To', 'jest', 'przykładowy', 'tekst', 'z', 'którego', 'wyciągamy', 'słowa']\n"
      ],
      "metadata": {
        "colab": {
          "base_uri": "https://localhost:8080/"
        },
        "id": "bm94LSd_7IoO",
        "outputId": "61293752-a00d-4559-f075-0faa9d582a7e"
      },
      "execution_count": 11,
      "outputs": [
        {
          "output_type": "stream",
          "name": "stdout",
          "text": [
            "['To', 'jest', 'przykładowy', 'tekst', 'z', 'którego', 'wyciągamy', 'słowa']\n"
          ]
        }
      ]
    },
    {
      "cell_type": "markdown",
      "source": [
        "## **Zadanie 5: Generator (funkcja generująca) na podstawie iteratora z zadania 4**"
      ],
      "metadata": {
        "id": "BqpUPo1u7oLB"
      }
    },
    {
      "cell_type": "code",
      "source": [
        "def word_generator(text):\n",
        "    for match in re.finditer(r'\\b\\w+\\b', text):\n",
        "        yield match.group()\n",
        "\n",
        "# Przykład:\n",
        "gen = word_generator(\"Przykład tekstu z wieloma słowami!\")\n",
        "print(list(gen))  # ['Przykład', 'tekstu', 'z', 'wieloma', 'słowami']\n"
      ],
      "metadata": {
        "colab": {
          "base_uri": "https://localhost:8080/"
        },
        "id": "95KGXnoV7Ke6",
        "outputId": "3522ffd0-7afd-4753-f248-3e17daebe5db"
      },
      "execution_count": 12,
      "outputs": [
        {
          "output_type": "stream",
          "name": "stdout",
          "text": [
            "['Przykład', 'tekstu', 'z', 'wieloma', 'słowami']\n"
          ]
        }
      ]
    },
    {
      "cell_type": "markdown",
      "source": [
        "## **Zadanie 6: Generator kodów produktów (np. A_01 do Z_99, AA_001 do ZZ_999)**"
      ],
      "metadata": {
        "id": "xMN74Fht8DkL"
      }
    },
    {
      "cell_type": "code",
      "source": [
        "import string\n",
        "import itertools\n",
        "\n",
        "def product_code_generator(letter_pos, num_pos):\n",
        "    letters = string.ascii_uppercase\n",
        "    for letter_combo in itertools.product(letters, repeat=letter_pos):\n",
        "        prefix = ''.join(letter_combo)\n",
        "        for number in range(1, 10**num_pos):\n",
        "            code = f\"{prefix}_{number:0{num_pos}d}\"\n",
        "            yield code\n",
        "\n",
        "# Przykład:\n",
        "gen = product_code_generator(1, 2)\n",
        "for _ in range(5):\n",
        "    print(next(gen))  # A_01, A_02, ..., A_05\n"
      ],
      "metadata": {
        "colab": {
          "base_uri": "https://localhost:8080/"
        },
        "id": "Q9DzYIuV7MLf",
        "outputId": "aaabd19d-74ca-423b-a6fa-508a601058e6"
      },
      "execution_count": 13,
      "outputs": [
        {
          "output_type": "stream",
          "name": "stdout",
          "text": [
            "A_01\n",
            "A_02\n",
            "A_03\n",
            "A_04\n",
            "A_05\n"
          ]
        }
      ]
    }
  ]
}