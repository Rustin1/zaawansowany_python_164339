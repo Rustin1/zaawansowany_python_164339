{
  "nbformat": 4,
  "nbformat_minor": 0,
  "metadata": {
    "colab": {
      "provenance": []
    },
    "kernelspec": {
      "name": "python3",
      "display_name": "Python 3"
    },
    "language_info": {
      "name": "python"
    }
  },
  "cells": [
    {
      "cell_type": "markdown",
      "source": [
        "## **Zadanie 1 – Zliczanie samogłosek za pomocą reduce i lambda**"
      ],
      "metadata": {
        "id": "MfgYs60f5CXz"
      }
    },
    {
      "cell_type": "code",
      "execution_count": 1,
      "metadata": {
        "colab": {
          "base_uri": "https://localhost:8080/"
        },
        "id": "wzMe1zOj48LX",
        "outputId": "bb98ecc1-1250-478b-e95f-0b02a6d720f5"
      },
      "outputs": [
        {
          "output_type": "stream",
          "name": "stdout",
          "text": [
            "10\n"
          ]
        }
      ],
      "source": [
        "from functools import reduce\n",
        "\n",
        "text = \"Przykładowy tekst z samogłoskami\"\n",
        "\n",
        "count_vowels = lambda txt: reduce(lambda acc, char: acc + (1 if char.lower() in 'aeiouyąęó' else 0), txt, 0)\n",
        "print(count_vowels(text))  # wynik np. 10"
      ]
    },
    {
      "cell_type": "markdown",
      "source": [
        "## **Zadanie 2 – Sortowanie po liczbie punktów wyciągniętej z tekstu**"
      ],
      "metadata": {
        "id": "jtEmJ19_5IIP"
      }
    },
    {
      "cell_type": "code",
      "source": [
        "data = [('Adam', 'Nowak', '13 pkt'), ('Anna','Górka', '15 pkt'), ('Wojtek', 'Bonk', '8 pkt')]\n",
        "\n",
        "sorted_data = sorted(data, key=lambda x: int(x[2].split()[0]), reverse=True)\n",
        "print(sorted_data)"
      ],
      "metadata": {
        "colab": {
          "base_uri": "https://localhost:8080/"
        },
        "id": "eorw-59P5G4I",
        "outputId": "756da77a-aa67-48e7-8e17-f22d033d4798"
      },
      "execution_count": 3,
      "outputs": [
        {
          "output_type": "stream",
          "name": "stdout",
          "text": [
            "[('Anna', 'Górka', '15 pkt'), ('Adam', 'Nowak', '13 pkt'), ('Wojtek', 'Bonk', '8 pkt')]\n"
          ]
        }
      ]
    },
    {
      "cell_type": "markdown",
      "source": [
        "## **Zadanie 3 – Iloczyn 10 pierwszych liczb Fibonacciego**"
      ],
      "metadata": {
        "id": "H_9hJJsG5dEj"
      }
    },
    {
      "cell_type": "code",
      "source": [
        "from functools import reduce\n",
        "from operator import mul\n",
        "\n",
        "# Generowanie pierwszych 10 liczb Fibonacciego, zakładając F(1)=1\n",
        "fibo = [1, 1]\n",
        "for _ in range(8):\n",
        "    fibo.append(fibo[-1] + fibo[-2])\n",
        "\n",
        "product = reduce(mul, fibo)\n",
        "print(product)\n"
      ],
      "metadata": {
        "colab": {
          "base_uri": "https://localhost:8080/"
        },
        "id": "icIp_dMo5bfZ",
        "outputId": "b2910ca9-0423-4497-9491-6dff8cff9725"
      },
      "execution_count": 4,
      "outputs": [
        {
          "output_type": "stream",
          "name": "stdout",
          "text": [
            "122522400\n"
          ]
        }
      ]
    },
    {
      "cell_type": "markdown",
      "source": [
        "## **Zadanie 4 – Zwracanie dnia tygodnia z cycle**"
      ],
      "metadata": {
        "id": "CzK8rRY75h3A"
      }
    },
    {
      "cell_type": "code",
      "source": [
        "from itertools import cycle, islice\n",
        "\n",
        "def jaki_dzien(start_day, n):\n",
        "    dni = ['poniedziałek', 'wtorek', 'środa', 'czwartek', 'piątek', 'sobota', 'niedziela']\n",
        "    cyc = cycle(dni)\n",
        "    start_index = dni.index(start_day)\n",
        "    # przesuń cykl do odpowiedniego startu\n",
        "    shifted = islice(cyc, start_index, start_index + n + 1)\n",
        "    return list(shifted)[-1]\n",
        "\n",
        "print(jaki_dzien('wtorek', 3))  # powinno dać 'piątek'"
      ],
      "metadata": {
        "colab": {
          "base_uri": "https://localhost:8080/"
        },
        "id": "AQCT2Xh75hnN",
        "outputId": "a77143ef-0013-4054-c3ed-be298a057b19"
      },
      "execution_count": 5,
      "outputs": [
        {
          "output_type": "stream",
          "name": "stdout",
          "text": [
            "piątek\n"
          ]
        }
      ]
    },
    {
      "cell_type": "markdown",
      "source": [
        "## **Zadanie 5 – Permutacje jako stringi (lambda + permutations)**"
      ],
      "metadata": {
        "id": "pK9KaCse5vwi"
      }
    },
    {
      "cell_type": "code",
      "source": [
        "from itertools import permutations\n",
        "\n",
        "perms = permutations('ABCD', 2)\n",
        "as_strings = list(map(lambda x: ''.join(x), perms))\n",
        "print(as_strings)"
      ],
      "metadata": {
        "colab": {
          "base_uri": "https://localhost:8080/"
        },
        "id": "CoHZZpsf5ykp",
        "outputId": "561a6d95-a326-4570-b2a8-e155875af5a9"
      },
      "execution_count": 6,
      "outputs": [
        {
          "output_type": "stream",
          "name": "stdout",
          "text": [
            "['AB', 'AC', 'AD', 'BA', 'BC', 'BD', 'CA', 'CB', 'CD', 'DA', 'DB', 'DC']\n"
          ]
        }
      ]
    },
    {
      "cell_type": "markdown",
      "source": [
        "## **Zadanie 6 – Kombinacje rozmienienia 100 zł**"
      ],
      "metadata": {
        "id": "2f5XyDf050tR"
      }
    },
    {
      "cell_type": "code",
      "source": [
        "from itertools import product\n",
        "\n",
        "# Możliwe ilości każdego nominału\n",
        "comb = [\n",
        "    range(0, 5),   # 0-4 banknoty po 20 zł\n",
        "    range(0, 4),   # 0-3 banknoty po 10 zł\n",
        "    range(0, 3),   # 0-2 banknoty po 50 zł\n",
        "    range(0, 3)    # 0-2 monety po 5 zł\n",
        "]\n",
        "\n",
        "# Zlicz kombinacje, gdzie suma wynosi 100 zł\n",
        "count = 0\n",
        "for a, b, c, d in product(*comb):\n",
        "    if 20*a + 10*b + 50*c + 5*d == 100:\n",
        "        count += 1\n",
        "\n",
        "print(count)  # np. 9"
      ],
      "metadata": {
        "colab": {
          "base_uri": "https://localhost:8080/"
        },
        "id": "KKWA4xTf5z_9",
        "outputId": "67a00ef3-70d8-45d2-c33e-bf26fc4a0223"
      },
      "execution_count": 7,
      "outputs": [
        {
          "output_type": "stream",
          "name": "stdout",
          "text": [
            "8\n"
          ]
        }
      ]
    },
    {
      "cell_type": "markdown",
      "source": [
        "## **Zadanie 7 – starmap + format**"
      ],
      "metadata": {
        "id": "a0_3verv50X6"
      }
    },
    {
      "cell_type": "code",
      "source": [
        "from itertools import starmap\n",
        "\n",
        "args = [(255, 'x'), (3.14159, '.2f'), (1000, ',d')]\n",
        "formatted = list(starmap(format, args))\n",
        "print(formatted)\n"
      ],
      "metadata": {
        "colab": {
          "base_uri": "https://localhost:8080/"
        },
        "id": "FZsOi4Uh59fm",
        "outputId": "f210c14d-175e-4aee-c14c-bdfd189546d1"
      },
      "execution_count": 8,
      "outputs": [
        {
          "output_type": "stream",
          "name": "stdout",
          "text": [
            "['ff', '3.14', '1,000']\n"
          ]
        }
      ]
    }
  ]
}