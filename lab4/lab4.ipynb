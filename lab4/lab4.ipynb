{
  "nbformat": 4,
  "nbformat_minor": 0,
  "metadata": {
    "colab": {
      "provenance": []
    },
    "kernelspec": {
      "name": "python3",
      "display_name": "Python 3"
    },
    "language_info": {
      "name": "python"
    }
  },
  "cells": [
    {
      "cell_type": "markdown",
      "source": [
        "Zadanie 1: Dekorator logujący wywołanie funkcji"
      ],
      "metadata": {
        "id": "k5RXMx31ZrCP"
      }
    },
    {
      "cell_type": "code",
      "execution_count": 9,
      "metadata": {
        "colab": {
          "base_uri": "https://localhost:8080/"
        },
        "id": "j_IziegBY7vg",
        "outputId": "e90acfe1-21e6-4e14-b7d0-efef956529bf"
      },
      "outputs": [
        {
          "output_type": "stream",
          "name": "stdout",
          "text": [
            "[2025-03-30 18:54:53] example_function(5, y=15)\n"
          ]
        },
        {
          "output_type": "execute_result",
          "data": {
            "text/plain": [
              "20"
            ]
          },
          "metadata": {},
          "execution_count": 9
        }
      ],
      "source": [
        "from functools import wraps\n",
        "from datetime import datetime\n",
        "import time\n",
        "\n",
        "def log_event(func):\n",
        "    @wraps(func)\n",
        "    def wrapper(*args, **kwargs):\n",
        "        timestamp = datetime.now().strftime('%Y-%m-%d %H:%M:%S')\n",
        "        args_str = ', '.join(str(arg) for arg in args)\n",
        "        kwargs_str = ', '.join(f'{k}={v}' for k, v in kwargs.items())\n",
        "        all_args = ', '.join(filter(None, [args_str, kwargs_str]))\n",
        "        print(f'[{timestamp}] {func.__name__}({all_args})')\n",
        "        return func(*args, **kwargs)\n",
        "    return wrapper\n",
        "\n",
        "@log_event\n",
        "def example_function(x, y=10):\n",
        "    return x + y\n",
        "\n",
        "example_function(5, y=15)"
      ]
    },
    {
      "cell_type": "markdown",
      "source": [
        "Zadanie 2: Dekorator require_permission"
      ],
      "metadata": {
        "id": "vvUA0S-zZnIr"
      }
    },
    {
      "cell_type": "code",
      "source": [
        "def require_permission(permission):\n",
        "    def decorator(func):\n",
        "        @wraps(func)\n",
        "        def wrapper(user, *args, **kwargs):\n",
        "            if not user.has_permission(permission):\n",
        "                raise PermissionError(f'User does not have {permission} permission')\n",
        "            return func(user, *args, **kwargs)\n",
        "        return wrapper\n",
        "    return decorator\n",
        "\n",
        "class User:\n",
        "    def __init__(self, permissions):\n",
        "        self.permissions = permissions\n",
        "\n",
        "    def has_permission(self, permission):\n",
        "        return permission in self.permissions\n",
        "\n",
        "@require_permission('admin')\n",
        "def delete_user(user, user_id):\n",
        "    print(f'User {user_id} deleted')\n",
        "\n",
        "admin_user = User(permissions=['admin'])\n",
        "regular_user = User(permissions=['user'])\n",
        "\n",
        "delete_user(admin_user, 123)  # Działa\n",
        "delete_user(regular_user, 456)  # Rzuci PermissionError"
      ],
      "metadata": {
        "colab": {
          "base_uri": "https://localhost:8080/",
          "height": 315
        },
        "id": "kLyWp1CyZHfX",
        "outputId": "221bd825-1488-4db7-a911-ed4b1968d11b"
      },
      "execution_count": 4,
      "outputs": [
        {
          "output_type": "stream",
          "name": "stdout",
          "text": [
            "User 123 deleted\n"
          ]
        },
        {
          "output_type": "error",
          "ename": "PermissionError",
          "evalue": "User does not have admin permission",
          "traceback": [
            "\u001b[0;31m---------------------------------------------------------------------------\u001b[0m",
            "\u001b[0;31mPermissionError\u001b[0m                           Traceback (most recent call last)",
            "\u001b[0;32m<ipython-input-4-3debb656b4a8>\u001b[0m in \u001b[0;36m<cell line: 0>\u001b[0;34m()\u001b[0m\n\u001b[1;32m     24\u001b[0m \u001b[0;34m\u001b[0m\u001b[0m\n\u001b[1;32m     25\u001b[0m \u001b[0mdelete_user\u001b[0m\u001b[0;34m(\u001b[0m\u001b[0madmin_user\u001b[0m\u001b[0;34m,\u001b[0m \u001b[0;36m123\u001b[0m\u001b[0;34m)\u001b[0m  \u001b[0;31m# Działa\u001b[0m\u001b[0;34m\u001b[0m\u001b[0;34m\u001b[0m\u001b[0m\n\u001b[0;32m---> 26\u001b[0;31m \u001b[0mdelete_user\u001b[0m\u001b[0;34m(\u001b[0m\u001b[0mregular_user\u001b[0m\u001b[0;34m,\u001b[0m \u001b[0;36m456\u001b[0m\u001b[0;34m)\u001b[0m  \u001b[0;31m# Rzuci PermissionError\u001b[0m\u001b[0;34m\u001b[0m\u001b[0;34m\u001b[0m\u001b[0m\n\u001b[0m",
            "\u001b[0;32m<ipython-input-4-3debb656b4a8>\u001b[0m in \u001b[0;36mwrapper\u001b[0;34m(user, *args, **kwargs)\u001b[0m\n\u001b[1;32m      4\u001b[0m         \u001b[0;32mdef\u001b[0m \u001b[0mwrapper\u001b[0m\u001b[0;34m(\u001b[0m\u001b[0muser\u001b[0m\u001b[0;34m,\u001b[0m \u001b[0;34m*\u001b[0m\u001b[0margs\u001b[0m\u001b[0;34m,\u001b[0m \u001b[0;34m**\u001b[0m\u001b[0mkwargs\u001b[0m\u001b[0;34m)\u001b[0m\u001b[0;34m:\u001b[0m\u001b[0;34m\u001b[0m\u001b[0;34m\u001b[0m\u001b[0m\n\u001b[1;32m      5\u001b[0m             \u001b[0;32mif\u001b[0m \u001b[0;32mnot\u001b[0m \u001b[0muser\u001b[0m\u001b[0;34m.\u001b[0m\u001b[0mhas_permission\u001b[0m\u001b[0;34m(\u001b[0m\u001b[0mpermission\u001b[0m\u001b[0;34m)\u001b[0m\u001b[0;34m:\u001b[0m\u001b[0;34m\u001b[0m\u001b[0;34m\u001b[0m\u001b[0m\n\u001b[0;32m----> 6\u001b[0;31m                 \u001b[0;32mraise\u001b[0m \u001b[0mPermissionError\u001b[0m\u001b[0;34m(\u001b[0m\u001b[0;34mf'User does not have {permission} permission'\u001b[0m\u001b[0;34m)\u001b[0m\u001b[0;34m\u001b[0m\u001b[0;34m\u001b[0m\u001b[0m\n\u001b[0m\u001b[1;32m      7\u001b[0m             \u001b[0;32mreturn\u001b[0m \u001b[0mfunc\u001b[0m\u001b[0;34m(\u001b[0m\u001b[0muser\u001b[0m\u001b[0;34m,\u001b[0m \u001b[0;34m*\u001b[0m\u001b[0margs\u001b[0m\u001b[0;34m,\u001b[0m \u001b[0;34m**\u001b[0m\u001b[0mkwargs\u001b[0m\u001b[0;34m)\u001b[0m\u001b[0;34m\u001b[0m\u001b[0;34m\u001b[0m\u001b[0m\n\u001b[1;32m      8\u001b[0m         \u001b[0;32mreturn\u001b[0m \u001b[0mwrapper\u001b[0m\u001b[0;34m\u001b[0m\u001b[0;34m\u001b[0m\u001b[0m\n",
            "\u001b[0;31mPermissionError\u001b[0m: User does not have admin permission"
          ]
        }
      ]
    },
    {
      "cell_type": "markdown",
      "source": [
        "Zadanie 3: Dekorator Singleton"
      ],
      "metadata": {
        "id": "sil5S_sNZg4g"
      }
    },
    {
      "cell_type": "code",
      "source": [
        "def Singleton(cls):\n",
        "    instances = {}\n",
        "    @wraps(cls)\n",
        "    def wrapper(*args, **kwargs):\n",
        "        if cls not in instances:\n",
        "            instances[cls] = cls(*args, **kwargs)\n",
        "        return instances[cls]\n",
        "    return wrapper\n",
        "\n",
        "@Singleton\n",
        "class Database:\n",
        "    def __init__(self, db_name):\n",
        "        self.db_name = db_name"
      ],
      "metadata": {
        "id": "zl8n_TdOZRps"
      },
      "execution_count": 7,
      "outputs": []
    },
    {
      "cell_type": "markdown",
      "source": [
        "Testowanie Singletona"
      ],
      "metadata": {
        "id": "Ysbrt83RZb_p"
      }
    },
    {
      "cell_type": "code",
      "source": [
        "db1 = Database(\"main_db\")\n",
        "db2 = Database(\"backup_db\")\n",
        "print(db1 is db2)  # True - obie referencje wskazują na ten sam obiekt"
      ],
      "metadata": {
        "colab": {
          "base_uri": "https://localhost:8080/"
        },
        "id": "jVccYc6VZZt2",
        "outputId": "4108e66b-04a8-4c20-e8cd-78cf54c6e565"
      },
      "execution_count": 8,
      "outputs": [
        {
          "output_type": "stream",
          "name": "stdout",
          "text": [
            "True\n"
          ]
        }
      ]
    }
  ]
}