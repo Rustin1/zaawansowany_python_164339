{
 "cells": [
  {
   "cell_type": "markdown",
   "source": [
    "Listing 1"
   ],
   "metadata": {
    "collapsed": false,
    "pycharm": {
     "name": "#%% md\n"
    }
   }
  },
  {
   "cell_type": "code",
   "execution_count": 82,
   "metadata": {
    "collapsed": true,
    "pycharm": {
     "name": "#%%\n"
    }
   },
   "outputs": [],
   "source": [
    "from enum import Enum\n",
    "import inspect\n",
    "\n",
    "\n",
    "class FieldType(Enum):\n",
    "    INTEGER = 1\n",
    "    FLOAT = 2\n",
    "    STRING = 3\n",
    "    DATE = 4\n",
    "\n",
    "\n",
    "class Field:\n",
    "\n",
    "    def __init__(self, field_type: FieldType):\n",
    "        self.field_type = field_type\n",
    "\n",
    "    def get_fieldtype(self):\n",
    "        return self.field_type\n",
    "\n",
    "    def __str__(self):\n",
    "        return self.field_type.__class__.__name__\n",
    "\n",
    "\n",
    "class Model:\n",
    "\n",
    "    def __init__(self, db_table=None):\n",
    "        if db_table is None:\n",
    "            self.db_table = f'db_{self.__class__.__name__.lower()}'\n",
    "        else:\n",
    "            self.db_table = db_table\n",
    "\n",
    "    def get_fields(self):\n",
    "        fields = {}\n",
    "        for name, obj in inspect.getmembers(self):\n",
    "            if isinstance(obj, Field):\n",
    "                fields[name] = obj.get_fieldtype()\n",
    "        return fields\n",
    "\n",
    "    def __setattr__(self, attr, val):\n",
    "        for name, obj in inspect.getmembers(self):\n",
    "            if name == attr and isinstance(obj, Field):\n",
    "                obj.value = val\n",
    "                return\n",
    "        super().__setattr__(attr, val)\n",
    "\n",
    "    @staticmethod\n",
    "    def generate_table_for_name(name: str):\n",
    "        \"\"\" metoda statyczna wzracająca nazwę tabeli dla przykładowej nazwy modelu \"\"\"\n",
    "        return f'db_{name.lower()}'\n",
    "\n",
    "    @classmethod\n",
    "    def from_dict(cls, name: str, fields: dict[str, Field]):\n",
    "        # tu wykorzystać match case z mapowaniem słownika\n",
    "        for field in fields.items():\n",
    "\n",
    "            match field:\n",
    "                case (str(), Field()):\n",
    "                    setattr(cls, field[0], field[1])\n",
    "\n",
    "        model = cls()\n",
    "        model.db_table = f'db_{name.lower()}'\n",
    "        return model"
   ]
  },
  {
   "cell_type": "code",
   "execution_count": 83,
   "outputs": [
    {
     "name": "stdout",
     "output_type": "stream",
     "text": [
      "FieldType.INTEGER\n",
      "INTEGER\n",
      "1\n",
      "<enum 'FieldType'>\n"
     ]
    }
   ],
   "source": [
    "# wykorzystanie klasy typu Enum\n",
    "print(FieldType.INTEGER)\n",
    "print(FieldType.INTEGER.name)\n",
    "print(FieldType.INTEGER.value)\n",
    "print(FieldType)"
   ],
   "metadata": {
    "collapsed": false,
    "pycharm": {
     "name": "#%%\n"
    }
   }
  },
  {
   "cell_type": "code",
   "execution_count": 84,
   "outputs": [
    {
     "data": {
      "text/plain": "'db_osoba'"
     },
     "execution_count": 84,
     "metadata": {},
     "output_type": "execute_result"
    }
   ],
   "source": [
    "# wywołanie metody statycznej\n",
    "Model.generate_table_for_name('Osoba')"
   ],
   "metadata": {
    "collapsed": false,
    "pycharm": {
     "name": "#%%\n"
    }
   }
  },
  {
   "cell_type": "code",
   "execution_count": 85,
   "outputs": [],
   "source": [
    "# czy można stworzyć instancję klasy Model?\n",
    "model = Model()\n",
    "# Można. Klasa nie jest abstrakcyjna"
   ],
   "metadata": {
    "collapsed": false,
    "pycharm": {
     "name": "#%%\n"
    }
   }
  },
  {
   "cell_type": "code",
   "execution_count": 86,
   "outputs": [
    {
     "data": {
      "text/plain": "{}"
     },
     "execution_count": 86,
     "metadata": {},
     "output_type": "execute_result"
    }
   ],
   "source": [
    "model.get_fields()"
   ],
   "metadata": {
    "collapsed": false,
    "pycharm": {
     "name": "#%%\n"
    }
   }
  },
  {
   "cell_type": "code",
   "execution_count": 87,
   "outputs": [],
   "source": [
    "model.id = Field(FieldType.INTEGER)"
   ],
   "metadata": {
    "collapsed": false,
    "pycharm": {
     "name": "#%%\n"
    }
   }
  },
  {
   "cell_type": "code",
   "execution_count": 88,
   "outputs": [
    {
     "data": {
      "text/plain": "{'id': <FieldType.INTEGER: 1>}"
     },
     "execution_count": 88,
     "metadata": {},
     "output_type": "execute_result"
    }
   ],
   "source": [
    "model.get_fields()"
   ],
   "metadata": {
    "collapsed": false,
    "pycharm": {
     "name": "#%%\n"
    }
   }
  },
  {
   "cell_type": "code",
   "execution_count": 89,
   "outputs": [],
   "source": [
    "# deklaracja klasy dziedziczącej po Model\n",
    "class Person(Model):\n",
    "    id = Field(FieldType.INTEGER)\n",
    "    firstname = Field(FieldType.STRING)\n",
    "    lastname = Field(FieldType.STRING)\n",
    "    age = Field(FieldType.INTEGER)"
   ],
   "metadata": {
    "collapsed": false,
    "pycharm": {
     "name": "#%%\n"
    }
   }
  },
  {
   "cell_type": "code",
   "execution_count": 90,
   "outputs": [
    {
     "data": {
      "text/plain": "'db_person'"
     },
     "execution_count": 90,
     "metadata": {},
     "output_type": "execute_result"
    }
   ],
   "source": [
    "p = Person()\n",
    "p.db_table"
   ],
   "metadata": {
    "collapsed": false,
    "pycharm": {
     "name": "#%%\n"
    }
   }
  },
  {
   "cell_type": "code",
   "execution_count": 91,
   "outputs": [
    {
     "data": {
      "text/plain": "<__main__.Field at 0x18b027565d0>"
     },
     "execution_count": 91,
     "metadata": {},
     "output_type": "execute_result"
    }
   ],
   "source": [
    "p.id"
   ],
   "metadata": {
    "collapsed": false,
    "pycharm": {
     "name": "#%%\n"
    }
   }
  },
  {
   "cell_type": "code",
   "execution_count": 92,
   "outputs": [
    {
     "data": {
      "text/plain": "<__main__.Field at 0x18b027565d0>"
     },
     "execution_count": 92,
     "metadata": {},
     "output_type": "execute_result"
    }
   ],
   "source": [
    "p.id"
   ],
   "metadata": {
    "collapsed": false,
    "pycharm": {
     "name": "#%%\n"
    }
   }
  },
  {
   "cell_type": "code",
   "execution_count": 93,
   "outputs": [],
   "source": [
    "test = Model.from_dict('Movie',{'id': Field(FieldType.INTEGER), 'name': Field(FieldType.STRING)})"
   ],
   "metadata": {
    "collapsed": false,
    "pycharm": {
     "name": "#%%\n"
    }
   }
  },
  {
   "cell_type": "code",
   "execution_count": 94,
   "outputs": [
    {
     "data": {
      "text/plain": "{'id': <FieldType.INTEGER: 1>, 'name': <FieldType.STRING: 3>}"
     },
     "execution_count": 94,
     "metadata": {},
     "output_type": "execute_result"
    }
   ],
   "source": [
    "test.get_fields()"
   ],
   "metadata": {
    "collapsed": false,
    "pycharm": {
     "name": "#%%\n"
    }
   }
  },
  {
   "cell_type": "code",
   "execution_count": 95,
   "outputs": [
    {
     "data": {
      "text/plain": "'db_movie'"
     },
     "execution_count": 95,
     "metadata": {},
     "output_type": "execute_result"
    }
   ],
   "source": [
    "test.db_table"
   ],
   "metadata": {
    "collapsed": false,
    "pycharm": {
     "name": "#%%\n"
    }
   }
  },
  {
   "cell_type": "markdown",
   "source": [
    "Listing 2"
   ],
   "metadata": {
    "collapsed": false,
    "pycharm": {
     "name": "#%% md\n"
    }
   }
  },
  {
   "cell_type": "code",
   "execution_count": 96,
   "outputs": [],
   "source": [
    "# a teraz przykład z Field jako klasa abstrakcyjna\n",
    "from abc import ABC, abstractmethod\n",
    "\n",
    "\n",
    "class Field(ABC):\n",
    "\n",
    "    def __init__(self):\n",
    "        self.value = None\n",
    "\n",
    "    def get_fieldtype(self):\n",
    "        return self.__class__.__name__\n",
    "\n",
    "    def __setatrr__(self, attr, val):\n",
    "        if attr == 'value':\n",
    "            self._set_field_value(val)\n",
    "        else:\n",
    "            super().__setattr__(self,attr,val)\n",
    "\n",
    "    @abstractmethod\n",
    "    def _get_field_value(self):\n",
    "        ...\n",
    "\n",
    "    @abstractmethod\n",
    "    def _set_field_value(self, val):\n",
    "        ...\n",
    "\n",
    "    def __str__(self):\n",
    "        return self.__class__.__name__\n",
    "\n",
    "\n",
    "class StringField(Field):\n",
    "\n",
    "    def _set_field_value(self, val):\n",
    "        if isinstance(val, str):\n",
    "            self.value = val\n",
    "\n",
    "    def _get_field_value(self):\n",
    "        return self.value"
   ],
   "metadata": {
    "collapsed": false,
    "pycharm": {
     "name": "#%%\n"
    }
   }
  },
  {
   "cell_type": "code",
   "execution_count": 97,
   "outputs": [
    {
     "ename": "TypeError",
     "evalue": "Can't instantiate abstract class Field with abstract methods _get_field_value, _set_field_value",
     "output_type": "error",
     "traceback": [
      "\u001B[31m---------------------------------------------------------------------------\u001B[39m",
      "\u001B[31mTypeError\u001B[39m                                 Traceback (most recent call last)",
      "\u001B[36mCell\u001B[39m\u001B[36m \u001B[39m\u001B[32mIn[97]\u001B[39m\u001B[32m, line 2\u001B[39m\n\u001B[32m      1\u001B[39m \u001B[38;5;66;03m# próba inicjalizacji klasy abstrakcyjnej\u001B[39;00m\n\u001B[32m----> \u001B[39m\u001B[32m2\u001B[39m field = \u001B[43mField\u001B[49m\u001B[43m(\u001B[49m\u001B[43m)\u001B[49m\n",
      "\u001B[31mTypeError\u001B[39m: Can't instantiate abstract class Field with abstract methods _get_field_value, _set_field_value"
     ]
    }
   ],
   "source": [
    "# próba inicjalizacji klasy abstrakcyjnej\n",
    "field = Field()"
   ],
   "metadata": {
    "collapsed": false,
    "pycharm": {
     "name": "#%%\n"
    }
   }
  },
  {
   "cell_type": "code",
   "execution_count": null,
   "outputs": [],
   "source": [
    "# kod w klasie Model pozwala na przypisanie właściwości typu Field do instancji klasy model\n",
    "class Movie(Model):\n",
    "    title = StringField()\n",
    "    director = StringField()\n"
   ],
   "metadata": {
    "collapsed": false,
    "pycharm": {
     "name": "#%%\n"
    }
   }
  },
  {
   "cell_type": "code",
   "execution_count": null,
   "outputs": [],
   "source": [
    "# do samego pola klasy model dzięki odpowiedniej inmplementacji przypisywana jest wartość\n",
    "# pozostawiając wciąż pole klasą konkretną dziedziczącą po Field\n",
    "movie = Movie()\n",
    "print(movie.title)\n",
    "movie.title = 'Pierwszy człowiek'\n",
    "print(movie.title)"
   ],
   "metadata": {
    "collapsed": false,
    "pycharm": {
     "name": "#%%\n"
    }
   }
  },
  {
   "cell_type": "code",
   "execution_count": null,
   "outputs": [],
   "source": [
    "movie.title.get_fieldtype()"
   ],
   "metadata": {
    "collapsed": false,
    "pycharm": {
     "name": "#%%\n"
    }
   }
  },
  {
   "cell_type": "code",
   "execution_count": null,
   "outputs": [],
   "source": [
    "movie.db_table"
   ],
   "metadata": {
    "collapsed": false,
    "pycharm": {
     "name": "#%%\n"
    }
   }
  },
  {
   "cell_type": "code",
   "execution_count": null,
   "outputs": [],
   "source": [
    "movie.title"
   ],
   "metadata": {
    "collapsed": false,
    "pycharm": {
     "name": "#%%\n"
    }
   }
  },
  {
   "cell_type": "markdown",
   "source": [
    "1. Klasa bazowa Field + Enum FieldType jako klasa wewnętrzna"
   ],
   "metadata": {
    "collapsed": false,
    "pycharm": {
     "name": "#%% md\n"
    }
   }
  },
  {
   "cell_type": "code",
   "execution_count": null,
   "outputs": [],
   "source": [
    "from abc import ABC, abstractmethod\n",
    "from datetime import date\n",
    "from collections.abc import MutableSequence, Collection\n",
    "import inspect\n",
    "\n",
    "class Field(ABC):\n",
    "    \"\"\" Klasa bazowa dla wszystkich pól modelu \"\"\"\n",
    "\n",
    "    class FieldType:\n",
    "        \"\"\" Klasa wewnętrzna Enum definiująca typy pól \"\"\"\n",
    "        from enum import Enum\n",
    "\n",
    "        class Type(Enum):\n",
    "            INTEGER = 1\n",
    "            FLOAT = 2\n",
    "            STRING = 3\n",
    "            DATE = 4\n",
    "\n",
    "    def __init__(self):\n",
    "        self._value = None  # Zmieniamy nazwę zmiennej na `_value`\n",
    "\n",
    "    def get_fieldtype(self):\n",
    "        return self.__class__.__name__\n",
    "\n",
    "    def __setattr__(self, attr, val):\n",
    "        if attr == 'value':\n",
    "            self._set_field_value(val)\n",
    "        else:\n",
    "            super().__setattr__(attr, val)\n",
    "\n",
    "    @abstractmethod\n",
    "    def _get_field_value(self):\n",
    "        ...\n",
    "\n",
    "    @abstractmethod\n",
    "    def _set_field_value(self, val):\n",
    "        ...\n",
    "\n",
    "    def __str__(self):\n",
    "        return str(self._get_field_value())"
   ],
   "metadata": {
    "collapsed": false,
    "pycharm": {
     "name": "#%%\n"
    }
   }
  },
  {
   "cell_type": "markdown",
   "source": [
    "2. Implementacja StringField, IntegerField, DateField"
   ],
   "metadata": {
    "collapsed": false,
    "pycharm": {
     "name": "#%% md\n"
    }
   }
  },
  {
   "cell_type": "code",
   "execution_count": null,
   "outputs": [],
   "source": [
    "class StringField(Field):\n",
    "\n",
    "    def _set_field_value(self, val):\n",
    "        if isinstance(val, str):\n",
    "            self._value = val\n",
    "\n",
    "    def _get_field_value(self):\n",
    "        return self._value\n",
    "\n",
    "\n",
    "class IntegerField(Field):\n",
    "\n",
    "    def _set_field_value(self, val):\n",
    "        if isinstance(val, int):\n",
    "            self._value = val\n",
    "\n",
    "    def _get_field_value(self):\n",
    "        return self._value\n",
    "\n",
    "\n",
    "class DateField(Field):\n",
    "\n",
    "    def _set_field_value(self, val):\n",
    "        if isinstance(val, date):\n",
    "            self._value = val\n",
    "\n",
    "    def _get_field_value(self):\n",
    "        return self._value"
   ],
   "metadata": {
    "collapsed": false,
    "pycharm": {
     "name": "#%%\n"
    }
   }
  },
  {
   "cell_type": "markdown",
   "source": [
    "3. Klasa Model z refaktoryzacją"
   ],
   "metadata": {
    "collapsed": false,
    "pycharm": {
     "name": "#%% md\n"
    }
   }
  },
  {
   "cell_type": "code",
   "execution_count": null,
   "outputs": [],
   "source": [
    "class Model:\n",
    "\n",
    "    def __init__(self, db_table=None):\n",
    "        self.db_table = self.generate_table_for_name(self.__class__.__name__) if db_table is None else db_table\n",
    "\n",
    "    @staticmethod\n",
    "    def generate_table_for_name(name: str):\n",
    "        \"\"\" Metoda zwracająca nazwę tabeli na podstawie nazwy modelu \"\"\"\n",
    "        return f'db_{name.lower()}'\n",
    "\n",
    "    def get_fields(self):\n",
    "        \"\"\" Pobiera wszystkie pola klasy \"\"\"\n",
    "        fields = {}\n",
    "        for name, obj in inspect.getmembers(self):\n",
    "            if isinstance(obj, Field):\n",
    "                fields[name] = obj.get_fieldtype()\n",
    "        return fields\n",
    "\n",
    "    def __setattr__(self, attr, val):\n",
    "        \"\"\" Obsługuje przypisywanie wartości do pól klasy \"\"\"\n",
    "        for name, obj in inspect.getmembers(self):\n",
    "            if name == attr and isinstance(obj, Field):\n",
    "                obj.value = val\n",
    "                return\n",
    "        super().__setattr__(attr, val)\n",
    "\n",
    "    def __getattr__(self, attr):\n",
    "        \"\"\" Zwraca wartość pola zamiast instancji Field \"\"\"\n",
    "        if attr in self.get_fields():\n",
    "            return getattr(self.__dict__[attr], \"_value\", None)\n",
    "        raise AttributeError(f\"'{self.__class__.__name__}' object has no attribute '{attr}'\")\n",
    "\n",
    "    def save(self):\n",
    "        \"\"\" Generuje poprawny SQL dla zapisu modelu do bazy danych \"\"\"\n",
    "        fields = self.get_fields()\n",
    "        values = {k: getattr(self, k) for k in fields}\n",
    "\n",
    "        if values.get('id') is None:\n",
    "            sql = f\"INSERT INTO {self.db_table} ({', '.join(fields.keys())}) VALUES ({', '.join(['DEFAULT' if k == 'id' else repr(v) for k, v in values.items()])})\"\n",
    "        else:\n",
    "            set_clause = ', '.join(f\"{k} = {repr(v)}\" for k, v in values.items() if k != 'id')\n",
    "            sql = f\"UPDATE {self.db_table} SET {set_clause} WHERE id = {values['id']}\"\n",
    "\n",
    "        return sql\n",
    "\n"
   ],
   "metadata": {
    "collapsed": false,
    "pycharm": {
     "name": "#%%\n"
    }
   }
  },
  {
   "cell_type": "markdown",
   "source": [
    "4. Implementacja Koszyka (MutableSequence)"
   ],
   "metadata": {
    "collapsed": false,
    "pycharm": {
     "name": "#%% md\n"
    }
   }
  },
  {
   "cell_type": "code",
   "execution_count": null,
   "outputs": [],
   "source": [
    "class Koszyk(MutableSequence):\n",
    "\n",
    "    def __init__(self):\n",
    "        self._items = []\n",
    "\n",
    "    def __getitem__(self, index):\n",
    "        return self._items[index]\n",
    "\n",
    "    def __setitem__(self, index, value):\n",
    "        self._items[index] = value\n",
    "\n",
    "    def __delitem__(self, index):\n",
    "        del self._items[index]\n",
    "\n",
    "    def __len__(self):\n",
    "        return len(self._items)\n",
    "\n",
    "    def insert(self, index, value):\n",
    "        self._items.insert(index, value)\n",
    "\n",
    "    def __repr__(self):\n",
    "        return repr(self._items)\n",
    "\n"
   ],
   "metadata": {
    "collapsed": false,
    "pycharm": {
     "name": "#%%\n"
    }
   }
  },
  {
   "cell_type": "markdown",
   "source": [
    "5. Implementacja Tydzien (Collection)"
   ],
   "metadata": {
    "collapsed": false,
    "pycharm": {
     "name": "#%% md\n"
    }
   }
  },
  {
   "cell_type": "code",
   "execution_count": null,
   "outputs": [],
   "source": [
    "class Tydzien(Collection):\n",
    "\n",
    "    dni_tygodnia = [\"Poniedziałek\", \"Wtorek\", \"Środa\", \"Czwartek\", \"Piątek\", \"Sobota\", \"Niedziela\"]\n",
    "\n",
    "    def __contains__(self, item):\n",
    "        return item in self.dni_tygodnia\n",
    "\n",
    "    def __iter__(self):\n",
    "        return iter(self.dni_tygodnia)\n",
    "\n",
    "    def __len__(self):\n",
    "        return len(self.dni_tygodnia)\n"
   ],
   "metadata": {
    "collapsed": false,
    "pycharm": {
     "name": "#%%\n"
    }
   }
  },
  {
   "cell_type": "markdown",
   "source": [
    "6. Testowanie klas i metod"
   ],
   "metadata": {
    "collapsed": false,
    "pycharm": {
     "name": "#%% md\n"
    }
   }
  },
  {
   "cell_type": "code",
   "execution_count": null,
   "outputs": [],
   "source": [
    "print(\"\\n=== TESTOWANIE MODEL ===\")\n",
    "movie = Model()\n",
    "print(movie.db_table)  # 'db_model'\n",
    "\n",
    "movie = Model(\"custom_table\")\n",
    "print(movie.db_table)  # 'custom_table'\n",
    "\n",
    "print(\"\\n=== TESTOWANIE POL ===\")\n",
    "movie.title = StringField()\n",
    "movie.title = \"Pierwszy człowiek\"\n",
    "print(movie.title)  # 'Pierwszy człowiek'\n",
    "\n",
    "movie.year = IntegerField()\n",
    "movie.year = 2018\n",
    "print(movie.year)  # 2018\n",
    "\n",
    "movie.release_date = DateField()\n",
    "movie.release_date = date(2018, 10, 12)\n",
    "print(movie.release_date)  # '2018-10-12'\n",
    "\n",
    "print(\"\\n=== TESTOWANIE SQL SAVE ===\")\n",
    "print(movie.save())  # INSERT lub UPDATE\n",
    "\n",
    "print(\"\\n=== TESTOWANIE KOSZYKA ===\")\n",
    "koszyk = Koszyk()\n",
    "koszyk.append(\"Jabłko\")\n",
    "koszyk.append(\"Banan\")\n",
    "print(koszyk)  # ['Jabłko', 'Banan']\n",
    "\n",
    "print(\"\\n=== TESTOWANIE TYGODNIA ===\")\n",
    "tydzien = Tydzien()\n",
    "print(\"Środa\" in tydzien)  # True\n",
    "print(list(tydzien))  # [\"Poniedziałek\", ..., \"Niedziela\"]"
   ],
   "metadata": {
    "collapsed": false,
    "pycharm": {
     "name": "#%%\n"
    }
   }
  }
 ],
 "metadata": {
  "kernelspec": {
   "display_name": "Python 3",
   "language": "python",
   "name": "python3"
  },
  "language_info": {
   "codemirror_mode": {
    "name": "ipython",
    "version": 2
   },
   "file_extension": ".py",
   "mimetype": "text/x-python",
   "name": "python",
   "nbconvert_exporter": "python",
   "pygments_lexer": "ipython2",
   "version": "2.7.6"
  }
 },
 "nbformat": 4,
 "nbformat_minor": 0
}