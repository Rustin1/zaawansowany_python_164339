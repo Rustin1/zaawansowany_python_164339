{
  "nbformat": 4,
  "nbformat_minor": 0,
  "metadata": {
    "colab": {
      "provenance": []
    },
    "kernelspec": {
      "name": "python3",
      "display_name": "Python 3"
    },
    "language_info": {
      "name": "python"
    }
  },
  "cells": [
    {
      "cell_type": "markdown",
      "source": [
        "# Zadanie 1 – Rozpakowanie ZIP i liczenie plików/folderów"
      ],
      "metadata": {
        "id": "oIYEENvCs-FT"
      }
    },
    {
      "cell_type": "code",
      "execution_count": 52,
      "metadata": {
        "colab": {
          "base_uri": "https://localhost:8080/"
        },
        "id": "q8LdXDv7mhJE",
        "outputId": "34bce239-5896-4cdd-f137-f94822dbbd4c"
      },
      "outputs": [
        {
          "output_type": "stream",
          "name": "stdout",
          "text": [
            "[Zadanie 1] Liczba folderów: 2\n",
            "[Zadanie 1] Liczba plików: 3\n"
          ]
        }
      ],
      "source": [
        "\n",
        "import os\n",
        "import zipfile\n",
        "import pandas as pd\n",
        "import sys\n",
        "\n",
        "# Ścieżka do pliku ZIP\n",
        "zip_path = 'dane/test.zip'\n",
        "extract_path = 'dane'\n",
        "\n",
        "# Rozpakuj ZIP\n",
        "with zipfile.ZipFile(zip_path, 'r') as zip_ref:\n",
        "    zip_ref.extractall(extract_path)\n",
        "\n",
        "# Licz foldery i pliki w rozpakowanym katalogu\n",
        "base_folder = os.path.join(extract_path, 'test')\n",
        "folder_count = 0\n",
        "file_count = 0\n",
        "\n",
        "for root, dirs, files in os.walk(base_folder):\n",
        "    # Pomijamy katalog główny\n",
        "    if root != base_folder:\n",
        "        folder_count += len(dirs)\n",
        "        file_count += len(files)\n",
        "\n",
        "print(f\"[Zadanie 1] Liczba folderów: {folder_count}\")\n",
        "print(f\"[Zadanie 1] Liczba plików: {file_count}\")"
      ]
    },
    {
      "cell_type": "markdown",
      "source": [
        "# Zadanie 2 – Funkcja file_stats"
      ],
      "metadata": {
        "id": "U87PX8Uxs566"
      }
    },
    {
      "cell_type": "code",
      "source": [
        "def file_stats(base_path, folder_name):\n",
        "    for root, dirs, files in os.walk(base_path):\n",
        "        if os.path.basename(root) == folder_name:\n",
        "            total_size = 0\n",
        "            file_count = 0\n",
        "            for file in files:\n",
        "                file_path = os.path.join(root, file)\n",
        "                if os.path.isfile(file_path):\n",
        "                    total_size += os.path.getsize(file_path)\n",
        "                    file_count += 1\n",
        "            return file_count, total_size\n",
        "    return 0, 0\n",
        "\n",
        "# Przykład użycia:\n",
        "print(file_stats('dane/test', '3'))"
      ],
      "metadata": {
        "colab": {
          "base_uri": "https://localhost:8080/"
        },
        "id": "0nGCjm6xrPTd",
        "outputId": "6c12b4dd-3b07-4175-c541-0670505fb309"
      },
      "execution_count": 49,
      "outputs": [
        {
          "output_type": "stream",
          "name": "stdout",
          "text": [
            "(1, 0)\n"
          ]
        }
      ]
    },
    {
      "cell_type": "markdown",
      "source": [
        "# Zadanie 3 – Funkcja fs_stats"
      ],
      "metadata": {
        "id": "KXdV9KXYs2aq"
      }
    },
    {
      "cell_type": "code",
      "source": [
        "def fs_stats(path):\n",
        "    data = []\n",
        "    for root, dirs, files in os.walk(path):\n",
        "        for name in dirs + files:\n",
        "            full_path = os.path.join(root, name)\n",
        "            is_file = os.path.isfile(full_path)\n",
        "            is_dir = os.path.isdir(full_path)\n",
        "            size = os.path.getsize(full_path) if is_file else 0\n",
        "            try:\n",
        "                line_count = sum(1 for _ in open(full_path, encoding='utf-8')) if is_file else 0\n",
        "            except:\n",
        "                line_count = 0\n",
        "            data.append({\n",
        "                \"nazwa\": name,\n",
        "                \"ścieżka_względna\": os.path.relpath(full_path, path),\n",
        "                \"ścieżka_bezwzględna\": os.path.abspath(full_path),\n",
        "                \"czy_folder\": is_dir,\n",
        "                \"czy_plik\": is_file,\n",
        "                \"rozmiar_bajty\": size,\n",
        "                \"liczba_linii\": line_count\n",
        "            })\n",
        "    return pd.DataFrame(data)\n",
        "\n",
        "# Przykład:\n",
        "df = fs_stats('dane/test')\n",
        "print(df.head())\n"
      ],
      "metadata": {
        "colab": {
          "base_uri": "https://localhost:8080/"
        },
        "id": "joAYv9aRrRkt",
        "outputId": "711bf33b-5443-4ae7-bf2d-913f3a251660"
      },
      "execution_count": 46,
      "outputs": [
        {
          "output_type": "stream",
          "name": "stdout",
          "text": [
            "                        nazwa              ścieżka_względna  \\\n",
            "0                           2                             2   \n",
            "1                           1                             1   \n",
            "2  Nowy dokument tekstowy.txt  2/Nowy dokument tekstowy.txt   \n",
            "3                           3                           1/3   \n",
            "4  Nowy dokument tekstowy.txt  1/Nowy dokument tekstowy.txt   \n",
            "\n",
            "                               ścieżka_bezwzględna  czy_folder  czy_plik  \\\n",
            "0                             /content/dane/test/2        True     False   \n",
            "1                             /content/dane/test/1        True     False   \n",
            "2  /content/dane/test/2/Nowy dokument tekstowy.txt       False      True   \n",
            "3                           /content/dane/test/1/3        True     False   \n",
            "4  /content/dane/test/1/Nowy dokument tekstowy.txt       False      True   \n",
            "\n",
            "   rozmiar_bajty  liczba_linii  \n",
            "0              0             0  \n",
            "1              0             0  \n",
            "2              0             0  \n",
            "3              0             0  \n",
            "4              0             0  \n"
          ]
        }
      ]
    },
    {
      "cell_type": "markdown",
      "source": [
        "# Zadanie 4 – Scalanie zawartości plików do jednego CSV"
      ],
      "metadata": {
        "id": "L-cdEaCqsyJ6"
      }
    },
    {
      "cell_type": "code",
      "source": [
        "def save_all_texts_to_csv(path, output_csv='scalone_dane.csv'):\n",
        "    df = fs_stats(path)\n",
        "    text_data = []\n",
        "\n",
        "    for _, row in df[df['czy_plik']].iterrows():\n",
        "        try:\n",
        "            with open(row['ścieżka_bezwzględna'], 'r', encoding='utf-8') as f:\n",
        "                content = f.read()\n",
        "            text_data.append({\n",
        "                'plik': row['ścieżka_względna'],\n",
        "                'treść': content\n",
        "            })\n",
        "        except:\n",
        "            continue  # pomiń pliki binarne lub z błędnym kodowaniem\n",
        "\n",
        "    result_df = pd.DataFrame(text_data)\n",
        "    result_df.to_csv(output_csv, index=False)\n",
        "    print(f\"[Zadanie 4] Zapisano {len(result_df)} plików do pliku {output_csv}\")\n",
        "\n",
        "# Przykład:\n",
        "save_all_texts_to_csv('dane/test')"
      ],
      "metadata": {
        "colab": {
          "base_uri": "https://localhost:8080/"
        },
        "id": "2Ay8PRDrrUi9",
        "outputId": "78b57c9f-846b-4f84-ef85-0bb5b52db556"
      },
      "execution_count": 45,
      "outputs": [
        {
          "output_type": "stream",
          "name": "stdout",
          "text": [
            "[Zadanie 4] Zapisano 3 plików do pliku scalone_dane.csv\n"
          ]
        }
      ]
    },
    {
      "cell_type": "markdown",
      "source": [
        "# Zadanie 5 – Wyjaśnienie różnicy w getsizeof()"
      ],
      "metadata": {
        "id": "Ma9sKbarsvjL"
      }
    },
    {
      "cell_type": "code",
      "source": [
        "print(\"[Zadanie 5] Porównanie sys.getsizeof dla list\")\n",
        "\n",
        "a = []\n",
        "b = [1]\n",
        "c = [1, 2, 3]\n",
        "\n",
        "print(f\"Pusta lista: {sys.getsizeof(a)} bajtów\")\n",
        "print(f\"Lista z 1 elementem: {sys.getsizeof(b)} bajtów\")\n",
        "print(f\"Lista z 3 elementami: {sys.getsizeof(c)} bajtów\")\n",
        "\n",
        "print(\"Wyjaśnienie: sys.getsizeof() mierzy rozmiar obiektu w pamięci (nie zawartości).\\nLista w Pythonie to dynamiczna tablica, która rezerwuje pamięć z nadmiarem.\\nRozmiar rośnie skokowo przy dodawaniu elementów (np. x1.125 lub x2).\\n\")"
      ],
      "metadata": {
        "colab": {
          "base_uri": "https://localhost:8080/"
        },
        "id": "YTc9pds2rWTd",
        "outputId": "fe1098aa-4b5f-4a92-fafd-d03e0c7196b2"
      },
      "execution_count": 36,
      "outputs": [
        {
          "output_type": "stream",
          "name": "stdout",
          "text": [
            "[Zadanie 5] Porównanie sys.getsizeof dla list\n",
            "Pusta lista: 56 bajtów\n",
            "Lista z 1 elementem: 64 bajtów\n",
            "Lista z 3 elementami: 88 bajtów\n",
            "Wyjaśnienie: sys.getsizeof() mierzy rozmiar obiektu w pamięci (nie zawartości).\n",
            "Lista w Pythonie to dynamiczna tablica, która rezerwuje pamięć z nadmiarem.\n",
            "Rozmiar rośnie skokowo przy dodawaniu elementów (np. x1.125 lub x2).\n",
            "\n"
          ]
        }
      ]
    }
  ]
}