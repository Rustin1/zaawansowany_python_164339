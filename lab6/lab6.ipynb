{
  "nbformat": 4,
  "nbformat_minor": 0,
  "metadata": {
    "colab": {
      "provenance": []
    },
    "kernelspec": {
      "name": "python3",
      "display_name": "Python 3"
    },
    "language_info": {
      "name": "python"
    }
  },
  "cells": [
    {
      "cell_type": "markdown",
      "source": [
        "## **1. Wyrażenia, które ze zmiennej text wypiszą:**"
      ],
      "metadata": {
        "id": "NDariGimbJ_j"
      }
    },
    {
      "cell_type": "code",
      "execution_count": null,
      "metadata": {
        "id": "dJTw2yTRZ_sg"
      },
      "outputs": [],
      "source": [
        "import re\n",
        "\n",
        "text = r\"\"\"Adam Malinowski\n",
        ".gitignore\n",
        "2023-01-17 error \"Page not found\"\n",
        "[2025-03-06] NOTICE \"User admin logged in\"\n",
        "Code 3300 was invalid\n",
        "https://www.onet.pl 200 176353\n",
        "File /etc/passwd: permission denied\n",
        "Józef\n",
        "C:\\Program Files\n",
        "Ania\n",
        "JOLA\n",
        "marek\n",
        "Kowalski\n",
        "bodo363\n",
        "PIN 0000 was invalid\n",
        "/users/test is not a valid directory name\n",
        "192.168.0.1 access denied\n",
        "1000\n",
        "666\n",
        "\"\"\""
      ]
    },
    {
      "cell_type": "markdown",
      "source": [
        "### **1.1 Zwraca wszystkie liczby**"
      ],
      "metadata": {
        "id": "MmNXaeaDajOU"
      }
    },
    {
      "cell_type": "code",
      "source": [
        "print(\"1.1:\", re.findall(r'\\d+', text))"
      ],
      "metadata": {
        "colab": {
          "base_uri": "https://localhost:8080/"
        },
        "id": "4bmwOdv6aE09",
        "outputId": "c927c7ef-0cfe-4201-9c88-d1e46828e9cf"
      },
      "execution_count": null,
      "outputs": [
        {
          "output_type": "stream",
          "name": "stdout",
          "text": [
            "1.1: ['2023', '01', '17', '2025', '03', '06', '3300', '200', '176353', '363', '0000', '192', '168', '0', '1', '1000', '666']\n"
          ]
        }
      ]
    },
    {
      "cell_type": "markdown",
      "source": [
        "### **1.2 Zwraca wszystkie liczby co najmniej dwucyfrowe**"
      ],
      "metadata": {
        "id": "I5cEOwqfarUk"
      }
    },
    {
      "cell_type": "code",
      "source": [
        "print(\"1.2:\", re.findall(r'\\b\\d{2,}\\b', text))"
      ],
      "metadata": {
        "colab": {
          "base_uri": "https://localhost:8080/"
        },
        "id": "EbX_lmCzaHFd",
        "outputId": "00580459-771d-4af9-f8cd-fd3e7f3d5e8e"
      },
      "execution_count": null,
      "outputs": [
        {
          "output_type": "stream",
          "name": "stdout",
          "text": [
            "1.2: ['2023', '01', '17', '2025', '03', '06', '3300', '200', '176353', '0000', '192', '168', '1000', '666']\n"
          ]
        }
      ]
    },
    {
      "cell_type": "markdown",
      "source": [
        "### **1.3 Zwraca wszystkie liczby, które zawierają co najmniej dwa kolejne zera**"
      ],
      "metadata": {
        "id": "A2_G-WUgav0G"
      }
    },
    {
      "cell_type": "code",
      "source": [
        "print(\"1.3:\", re.findall(r'\\b\\d*00\\d*\\b', text))"
      ],
      "metadata": {
        "colab": {
          "base_uri": "https://localhost:8080/"
        },
        "id": "zBFpXIZJaJO-",
        "outputId": "56cc829b-cb6e-4c84-e926-54fd60f246d3"
      },
      "execution_count": null,
      "outputs": [
        {
          "output_type": "stream",
          "name": "stdout",
          "text": [
            "1.3: ['3300', '200', '0000', '1000']\n"
          ]
        }
      ]
    },
    {
      "cell_type": "markdown",
      "source": [
        "### **1.4 Zwraca wszystkie wyrazy, które nie zawierają cyfr**"
      ],
      "metadata": {
        "id": "xmOb1SaWa3Q4"
      }
    },
    {
      "cell_type": "code",
      "source": [
        "print(\"1.4:\", re.findall(r'\\b[^\\d\\W]+\\b', text))\n",
        "\n"
      ],
      "metadata": {
        "colab": {
          "base_uri": "https://localhost:8080/"
        },
        "id": "f6HcezusaK2G",
        "outputId": "bd55cf5c-0d52-4f24-b7ff-a04cba0771c1"
      },
      "execution_count": null,
      "outputs": [
        {
          "output_type": "stream",
          "name": "stdout",
          "text": [
            "1.4: ['Adam', 'Malinowski', 'gitignore', 'error', 'Page', 'not', 'found', 'NOTICE', 'User', 'admin', 'logged', 'in', 'Code', 'was', 'invalid', 'https', 'www', 'onet', 'pl', 'File', 'etc', 'passwd', 'permission', 'denied', 'Józef', 'C', 'Program', 'Files', 'Ania', 'JOLA', 'marek', 'Kowalski', 'PIN', 'was', 'invalid', 'users', 'test', 'is', 'not', 'a', 'valid', 'directory', 'name', 'access', 'denied']\n"
          ]
        }
      ]
    },
    {
      "cell_type": "markdown",
      "source": [
        "## **2. Grupowanie kodu kraju i numeru telefonu**"
      ],
      "metadata": {
        "id": "RvpF3l7Ba8qY"
      }
    },
    {
      "cell_type": "code",
      "source": [
        "tel = [\n",
        "    '+48 555 444 333',\n",
        "    '(48) 555-444-333',\n",
        "    '(+48)555444333',\n",
        "    '+48 555444333',\n",
        "    '+48555444333',\n",
        "    '48555444333'\n",
        "]\n",
        "\n",
        "pattern = r'[\\(+]?(\\d{2})[\\)\\s-]*([\\d\\s-]{7,})'\n",
        "print(\"\\n2. Numery telefonów:\")\n",
        "for t in tel:\n",
        "    match = re.search(pattern, t)\n",
        "    if match:\n",
        "        kod = match.group(1)\n",
        "        numer = re.sub(r'\\D', '', match.group(2))\n",
        "        print(\"Kod:\", kod, \"| Numer:\", numer)"
      ],
      "metadata": {
        "colab": {
          "base_uri": "https://localhost:8080/"
        },
        "id": "JoVJ65lLaM2w",
        "outputId": "3b0ae3b1-af11-42cb-ee11-992419894df0"
      },
      "execution_count": null,
      "outputs": [
        {
          "output_type": "stream",
          "name": "stdout",
          "text": [
            "\n",
            "2. Numery telefonów:\n",
            "Kod: 48 | Numer: 555444333\n",
            "Kod: 48 | Numer: 555444333\n",
            "Kod: 48 | Numer: 555444333\n",
            "Kod: 48 | Numer: 555444333\n",
            "Kod: 48 | Numer: 555444333\n",
            "Kod: 48 | Numer: 555444333\n"
          ]
        }
      ]
    },
    {
      "cell_type": "markdown",
      "source": [
        "## **3. Konsumowanie w przód i w tył – ceny bez waluty**"
      ],
      "metadata": {
        "id": "-sxHXDhQbAtg"
      }
    },
    {
      "cell_type": "code",
      "source": [
        "import re\n",
        "\n",
        "tekst = \"\"\"\n",
        "Komputer: 3999.00 PLN, myszka: 30.0$, monitor: 399.00 Euro, podkładka: 39 zł\n",
        "\"\"\"\n",
        "\n",
        "# Wyrażenie regularne wykorzystuje konsumowanie w przód (lookahead)\n",
        "# oraz w tył (lookbehind), aby dopasować tylko ceny bez oznaczenia waluty\n",
        "wzorzec = r\"(?<!\\d)(?<!\\d\\.)\\d+(?:\\.\\d+)?(?=\\s?(?:PLN|\\$|zł|Euro))\"\n",
        "\n",
        "ceny = re.findall(wzorzec, tekst)\n",
        "print(ceny)\n"
      ],
      "metadata": {
        "colab": {
          "base_uri": "https://localhost:8080/"
        },
        "id": "xlNlj_QXaQaw",
        "outputId": "99ce2cad-1fdd-4697-8143-bc6bfb190687"
      },
      "execution_count": 1,
      "outputs": [
        {
          "output_type": "stream",
          "name": "stdout",
          "text": [
            "['3999.00', '30.0', '399.00', '39']\n"
          ]
        }
      ]
    }
  ]
}