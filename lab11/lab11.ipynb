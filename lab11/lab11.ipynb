{
 "cells": [
  {
   "cell_type": "markdown",
   "id": "039feb8a",
   "metadata": {},
   "source": [
    "### Zadanie 1"
   ]
  },
  {
   "cell_type": "code",
   "execution_count": 5,
   "id": "e886b4f1",
   "metadata": {},
   "outputs": [
    {
     "name": "stdout",
     "output_type": "stream",
     "text": [
      "111\n",
      "0b1101111\n",
      "111\n",
      "0x6f\n",
      "7\n",
      "73\n",
      "273\n"
     ]
    }
   ],
   "source": [
    "binary = '111'  # To string, a nie wartość binarna\n",
    "\n",
    "print(binary)\n",
    "# '111' — po prostu wypisanie stringa\n",
    "\n",
    "print(bin(int(binary)))\n",
    "# '0b1101111' — najpierw konwertujemy string '111' na liczbę dziesiętną: int('111') == 111,\n",
    "# potem zamieniamy 111 na postać binarną: bin(111) == '0b1101111'\n",
    "\n",
    "print(int(binary))\n",
    "# 111 — domyślna interpretacja stringa jako liczby dziesiętnej\n",
    "\n",
    "print(hex(int(binary)))\n",
    "# '0x6f' — int('111') == 111, a hex(111) == '0x6f'\n",
    "\n",
    "print(int(binary, base=2))\n",
    "# 7 — interpretujemy '111' jako liczbę binarną (1*2^2 + 1*2^1 + 1*2^0)\n",
    "\n",
    "print(int(binary, base=8))\n",
    "# 73 — interpretujemy '111' jako liczbę ósemkową (1*8^2 + 1*8^1 + 1*8^0 = 64 + 8 + 1)\n",
    "\n",
    "print(int(binary, base=16))\n",
    "# 273 — interpretujemy '111' jako szesnastkową (1*16^2 + 1*16^1 + 1*16^0 = 256 + 16 + 1)\n"
   ]
  },
  {
   "cell_type": "markdown",
   "id": "2c246830",
   "metadata": {},
   "source": [
    "### Zadanie 2"
   ]
  },
  {
   "cell_type": "code",
   "execution_count": 7,
   "id": "7fa57eee",
   "metadata": {},
   "outputs": [
    {
     "name": "stdout",
     "output_type": "stream",
     "text": [
      "Zakodowane zdanie: fvrzn\n"
     ]
    }
   ],
   "source": [
    "import this\n",
    "\n",
    "# this.d to słownik kodujący (ROT13) — nie trzeba tworzyć nowego słownika\n",
    "cipher = this.d\n",
    "\n",
    "# Wczytanie zdania od użytkownika\n",
    "text = input(\"Wpisz zdanie do zakodowania: \")\n",
    "\n",
    "# Zakodowanie tekstu: dla każdego znaku pobierz zamiennik z cipher, jeśli nie ma — przepisz znak bez zmian\n",
    "encoded = ''.join(cipher.get(char, char) for char in text)\n",
    "\n",
    "print(\"Zakodowane zdanie:\", encoded)\n",
    "\n"
   ]
  },
  {
   "cell_type": "markdown",
   "id": "fe05221f",
   "metadata": {},
   "source": [
    "### Zadanie 3"
   ]
  },
  {
   "cell_type": "code",
   "execution_count": 1,
   "id": "62127ca0",
   "metadata": {},
   "outputs": [
    {
     "name": "stdout",
     "output_type": "stream",
     "text": [
      "Zakończono pobieranie: https://www.openai.com\n",
      "Zakończono pobieranie: https://www.wikipedia.org\n",
      "Zakończono pobieranie: https://www.python.org\n",
      "Zakończono pobieranie: https://www.github.com\n",
      "Zakończono pobieranie: https://www.stackoverflow.com\n"
     ]
    }
   ],
   "source": [
    "import threading\n",
    "import requests\n",
    "\n",
    "def fetch_and_save(url, filename):\n",
    "    response = requests.get(url)\n",
    "    with open(filename, 'w', encoding='utf-8') as f:\n",
    "        f.write(response.text)\n",
    "    print(f\"Zakończono pobieranie: {url}\")\n",
    "\n",
    "urls = [\n",
    "    (\"https://www.python.org\", \"python.html\"),\n",
    "    (\"https://www.wikipedia.org\", \"wikipedia.html\"),\n",
    "    (\"https://www.openai.com\", \"openai.html\"),\n",
    "    (\"https://www.github.com\", \"github.html\"),\n",
    "    (\"https://www.stackoverflow.com\", \"stackoverflow.html\")\n",
    "]\n",
    "\n",
    "threads = []\n",
    "\n",
    "for url, filename in urls:\n",
    "    t = threading.Thread(target=fetch_and_save, args=(url, filename))\n",
    "    threads.append(t)\n",
    "    t.start()\n",
    "\n",
    "for t in threads:\n",
    "    t.join()\n"
   ]
  },
  {
   "cell_type": "markdown",
   "id": "d1e12e59",
   "metadata": {},
   "source": [
    "### Zadanie 4"
   ]
  },
  {
   "cell_type": "code",
   "execution_count": 2,
   "id": "b41ad9eb",
   "metadata": {},
   "outputs": [
    {
     "name": "stdout",
     "output_type": "stream",
     "text": [
      "Zużycie pamięci RAM: 79.2%\n",
      "Zużycie pamięci RAM: 79.3%\n",
      "Zużycie pamięci RAM: 79.3%\n",
      "Zużycie pamięci RAM: 79.2%\n",
      "Zużycie pamięci RAM: 79.2%\n",
      "Zużycie pamięci RAM: 79.2%\n",
      "Zużycie pamięci RAM: 79.2%\n",
      "Zużycie pamięci RAM: 79.2%\n",
      "Zużycie pamięci RAM: 79.1%\n",
      "Zużycie pamięci RAM: 79.0%\n",
      "Zużycie pamięci RAM: 79.0%\n",
      "Zużycie pamięci RAM: 79.0%\n",
      "Zużycie pamięci RAM: 78.8%\n",
      "Zużycie pamięci RAM: 78.9%\n",
      "Zużycie pamięci RAM: 78.9%\n",
      "Zużycie pamięci RAM: 78.8%\n",
      "Zużycie pamięci RAM: 78.7%\n",
      "Zużycie pamięci RAM: 78.7%\n",
      "Zużycie pamięci RAM: 78.9%\n",
      "Zużycie pamięci RAM: 78.9%\n",
      "Zużycie pamięci RAM: 78.8%\n",
      "Zużycie pamięci RAM: 78.8%\n",
      "Zużycie pamięci RAM: 78.8%\n",
      "Zużycie pamięci RAM: 78.8%\n",
      "Zużycie pamięci RAM: 78.7%\n",
      "Zużycie pamięci RAM: 78.8%\n",
      "Zużycie pamięci RAM: 78.7%\n",
      "Zużycie pamięci RAM: 78.7%\n",
      "Zużycie pamięci RAM: 78.7%\n",
      "Zużycie pamięci RAM: 78.7%\n",
      "Zużycie pamięci RAM: 78.7%\n",
      "Zużycie pamięci RAM: 78.7%\n",
      "Zużycie pamięci RAM: 78.7%\n",
      "Zużycie pamięci RAM: 78.6%\n",
      "Zużycie pamięci RAM: 78.7%\n",
      "Zużycie pamięci RAM: 78.6%\n",
      "Zużycie pamięci RAM: 78.6%\n",
      "Zużycie pamięci RAM: 78.7%\n",
      "Zużycie pamięci RAM: 78.7%\n"
     ]
    },
    {
     "ename": "KeyboardInterrupt",
     "evalue": "",
     "output_type": "error",
     "traceback": [
      "\u001b[1;31m---------------------------------------------------------------------------\u001b[0m",
      "\u001b[1;31mKeyboardInterrupt\u001b[0m                         Traceback (most recent call last)",
      "Cell \u001b[1;32mIn[2], line 7\u001b[0m\n\u001b[0;32m      5\u001b[0m mem \u001b[38;5;241m=\u001b[39m psutil\u001b[38;5;241m.\u001b[39mvirtual_memory()\n\u001b[0;32m      6\u001b[0m \u001b[38;5;28mprint\u001b[39m(\u001b[38;5;124mf\u001b[39m\u001b[38;5;124m\"\u001b[39m\u001b[38;5;124mZużycie pamięci RAM: \u001b[39m\u001b[38;5;132;01m{\u001b[39;00mmem\u001b[38;5;241m.\u001b[39mpercent\u001b[38;5;132;01m}\u001b[39;00m\u001b[38;5;124m%\u001b[39m\u001b[38;5;124m\"\u001b[39m)\n\u001b[1;32m----> 7\u001b[0m \u001b[43mtime\u001b[49m\u001b[38;5;241;43m.\u001b[39;49m\u001b[43msleep\u001b[49m\u001b[43m(\u001b[49m\u001b[38;5;241;43m1\u001b[39;49m\u001b[43m)\u001b[49m\n",
      "\u001b[1;31mKeyboardInterrupt\u001b[0m: "
     ]
    }
   ],
   "source": [
    "import psutil\n",
    "import time\n",
    "\n",
    "while True:\n",
    "    mem = psutil.virtual_memory()\n",
    "    print(f\"Zużycie pamięci RAM: {mem.percent}%\")\n",
    "    time.sleep(1)\n"
   ]
  },
  {
   "cell_type": "markdown",
   "id": "bcf4d2fc",
   "metadata": {},
   "source": [
    "### Zadanie 5"
   ]
  },
  {
   "cell_type": "code",
   "execution_count": 14,
   "id": "c9713354",
   "metadata": {},
   "outputs": [
    {
     "name": "stderr",
     "output_type": "stream",
     "text": [
      "C:/Riot Games/plik1.txt:   0%|          | 0/4 [00:00<?, ?it/s]\n",
      "C:/Riot Games/plik1.txt: 100%|██████████| 4/4 [00:00<00:00, 68.88it/s]\n",
      "C:/Riot Games/plik2.txt: 100%|██████████| 5/5 [00:00<00:00, 70.18it/s]\n",
      "C:/Riot Games/plik3.txt: 100%|██████████| 4/4 [00:00<00:00, 55.76it/s]\n"
     ]
    }
   ],
   "source": [
    "import threading\n",
    "import time\n",
    "from tqdm import tqdm\n",
    "\n",
    "def read_file_with_progress(filepath):\n",
    "    with open(filepath, 'r', encoding='utf-8') as f:\n",
    "        lines = f.readlines()\n",
    "        for line in tqdm(lines, desc=filepath):\n",
    "            time.sleep(0.01)  # sztuczne opóźnienie symulujące wolne czytanie\n",
    "\n",
    "filepaths = [\n",
    "    \"C:/Riot Games/plik1.txt\",\n",
    "    \"C:/Riot Games/plik2.txt\",\n",
    "    \"C:/Riot Games/plik3.txt\"\n",
    "]\n",
    "\n",
    "\n",
    "threads = []\n",
    "\n",
    "for path in filepaths:\n",
    "    t = threading.Thread(target=read_file_with_progress, args=(path,))\n",
    "    threads.append(t)\n",
    "    t.start()\n",
    "\n",
    "for t in threads:\n",
    "    t.join()\n"
   ]
  }
 ],
 "metadata": {
  "kernelspec": {
   "display_name": "Python 3",
   "language": "python",
   "name": "python3"
  },
  "language_info": {
   "codemirror_mode": {
    "name": "ipython",
    "version": 3
   },
   "file_extension": ".py",
   "mimetype": "text/x-python",
   "name": "python",
   "nbconvert_exporter": "python",
   "pygments_lexer": "ipython3",
   "version": "3.10.4"
  }
 },
 "nbformat": 4,
 "nbformat_minor": 5
}
