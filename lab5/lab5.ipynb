{
  "nbformat": 4,
  "nbformat_minor": 0,
  "metadata": {
    "colab": {
      "provenance": []
    },
    "kernelspec": {
      "name": "python3",
      "display_name": "Python 3"
    },
    "language_info": {
      "name": "python"
    }
  },
  "cells": [
    {
      "cell_type": "markdown",
      "source": [
        "# **Zadania na polu tekst**"
      ],
      "metadata": {
        "id": "fkvr5dIBSNhn"
      }
    },
    {
      "cell_type": "code",
      "execution_count": 2,
      "metadata": {
        "id": "VOzyNsWnSMGk"
      },
      "outputs": [],
      "source": [
        "import re\n",
        "\n",
        "text = \"\"\"\n",
        "Adam Malinowski\n",
        ".gitignore\n",
        "2023-01-17 error \"Page not found\"\n",
        "[2025-03-06] NOTICE \"User admin logged in\"\n",
        "Code 3300 was invalid\n",
        "https://www.onet.pl 200 176353\n",
        "File /etc/passwd: permission denied\n",
        "Józef\n",
        "Ania\n",
        "JOLA\n",
        "marek\n",
        "Kowalski\n",
        "bodo363\n",
        "PIN 0000 was invalid\n",
        "/users/test is not a valid directory name\n",
        "192.168.0.1 access denied\n",
        "1000\n",
        "666\n",
        "\"\"\""
      ]
    },
    {
      "cell_type": "markdown",
      "source": [
        "***1. Wypisz wszystkie dopasowania dla linii rozpoczynających się wielką literą.***"
      ],
      "metadata": {
        "id": "IOxYgcDQSOiM"
      }
    },
    {
      "cell_type": "code",
      "source": [
        "print(re.findall(r'^[A-Z]\\S*.*$', text, flags=re.MULTILINE))"
      ],
      "metadata": {
        "colab": {
          "base_uri": "https://localhost:8080/"
        },
        "id": "eQz7qgGBSOCF",
        "outputId": "9aebbb73-db5c-4042-9d90-4976a5c8e5e9"
      },
      "execution_count": null,
      "outputs": [
        {
          "output_type": "stream",
          "name": "stdout",
          "text": [
            "['Adam Malinowski', 'Code 3300 was invalid', 'File /etc/passwd: permission denied', 'Józef', 'Ania', 'JOLA', 'Kowalski', 'PIN 0000 was invalid']\n"
          ]
        }
      ]
    },
    {
      "cell_type": "markdown",
      "source": [
        "***2. Wypisz dopasowania zawierające cyfry.***"
      ],
      "metadata": {
        "id": "0FtU691dTz8H"
      }
    },
    {
      "cell_type": "code",
      "source": [
        "print(re.findall(r'\\d+', text))"
      ],
      "metadata": {
        "colab": {
          "base_uri": "https://localhost:8080/"
        },
        "id": "8-1HGdFtSoRs",
        "outputId": "d2918d32-50c1-4eb9-9ada-ccb3b821f64a"
      },
      "execution_count": null,
      "outputs": [
        {
          "output_type": "stream",
          "name": "stdout",
          "text": [
            "['2023', '01', '17', '2025', '03', '06', '3300', '200', '176353', '363', '0000', '192', '168', '0', '1', '1000', '666']\n"
          ]
        }
      ]
    },
    {
      "cell_type": "markdown",
      "source": [
        "***3. Wypisz całe linie zawierające kropkę.***"
      ],
      "metadata": {
        "id": "ITOiCMFjT-SI"
      }
    },
    {
      "cell_type": "code",
      "source": [
        "print(re.findall(r'^.*\\..*$', text, flags=re.MULTILINE))"
      ],
      "metadata": {
        "colab": {
          "base_uri": "https://localhost:8080/"
        },
        "id": "DcHfEftuSu-N",
        "outputId": "9126d4e7-0fd8-4ce6-bf37-f68cbae1a4c8"
      },
      "execution_count": null,
      "outputs": [
        {
          "output_type": "stream",
          "name": "stdout",
          "text": [
            "['.gitignore', 'https://www.onet.pl 200 176353', '192.168.0.1 access denied']\n"
          ]
        }
      ]
    },
    {
      "cell_type": "markdown",
      "source": [
        "***4. Wypisz liczby składające się z co najmniej 3 cyfr.***"
      ],
      "metadata": {
        "id": "-gt7e0UDUFj9"
      }
    },
    {
      "cell_type": "code",
      "source": [
        "print(re.findall(r'\\b\\d{3,}\\b', text))"
      ],
      "metadata": {
        "colab": {
          "base_uri": "https://localhost:8080/"
        },
        "id": "rBxom7ZUSy6E",
        "outputId": "647e0800-5b80-4b01-caa5-f194e9fd5383"
      },
      "execution_count": null,
      "outputs": [
        {
          "output_type": "stream",
          "name": "stdout",
          "text": [
            "['2023', '2025', '3300', '200', '176353', '0000', '192', '168', '1000', '666']\n"
          ]
        }
      ]
    },
    {
      "cell_type": "markdown",
      "source": [
        "***5. Wypisz całe linie zawierające liczby składające się z co najmniej 3 cyfr.***"
      ],
      "metadata": {
        "id": "RHKDwQzTUNUa"
      }
    },
    {
      "cell_type": "code",
      "source": [
        "print(re.findall(r'^.*\\b\\d{3,}\\b.*$', text, flags=re.MULTILINE))"
      ],
      "metadata": {
        "colab": {
          "base_uri": "https://localhost:8080/"
        },
        "id": "0-2vypdXS1MR",
        "outputId": "5a6d6596-6ddd-4dd6-fbbc-01f806b13044"
      },
      "execution_count": null,
      "outputs": [
        {
          "output_type": "stream",
          "name": "stdout",
          "text": [
            "['2023-01-17 error \"Page not found\"', '[2025-03-06] NOTICE \"User admin logged in\"', 'Code 3300 was invalid', 'https://www.onet.pl 200 176353', 'PIN 0000 was invalid', '192.168.0.1 access denied', '1000', '666']\n"
          ]
        }
      ]
    },
    {
      "cell_type": "markdown",
      "source": [
        "***6. Wypisz linie zawierające tylko litery.***"
      ],
      "metadata": {
        "id": "qmehG4oyUas6"
      }
    },
    {
      "cell_type": "code",
      "source": [
        "print(re.findall(r'^[A-Za-zĄĆĘŁŃÓŚŹŻąćęłńóśźż]+$', text, flags=re.MULTILINE))"
      ],
      "metadata": {
        "colab": {
          "base_uri": "https://localhost:8080/"
        },
        "id": "FclQ4PsfS5oo",
        "outputId": "cb8aeb41-78f2-4189-9427-dc74e0038cb7"
      },
      "execution_count": 3,
      "outputs": [
        {
          "output_type": "stream",
          "name": "stdout",
          "text": [
            "['Józef', 'Ania', 'JOLA', 'marek', 'Kowalski']\n"
          ]
        }
      ]
    },
    {
      "cell_type": "markdown",
      "source": [
        "***7. Wypisz całe linie zawierające tylko cyfry.***"
      ],
      "metadata": {
        "id": "Wkdp2txBUdjv"
      }
    },
    {
      "cell_type": "code",
      "source": [
        "print(re.findall(r'^\\d+$', text, flags=re.MULTILINE))"
      ],
      "metadata": {
        "colab": {
          "base_uri": "https://localhost:8080/"
        },
        "id": "8Yf2KFQNS9Tr",
        "outputId": "079bd735-0554-4e19-ac36-82295f329802"
      },
      "execution_count": null,
      "outputs": [
        {
          "output_type": "stream",
          "name": "stdout",
          "text": [
            "['1000', '666']\n"
          ]
        }
      ]
    },
    {
      "cell_type": "markdown",
      "source": [
        "***8. Wypisz dopasowania zawierające słowo valid lub invalid.***"
      ],
      "metadata": {
        "id": "7KxqI7u-UnT5"
      }
    },
    {
      "cell_type": "code",
      "source": [
        "print(re.findall(r'\\b(valid|invalid)\\b', text))"
      ],
      "metadata": {
        "colab": {
          "base_uri": "https://localhost:8080/"
        },
        "id": "UemhCd1dTAgR",
        "outputId": "72ce290d-150d-4fa8-90d6-9b12e0a6d0e7"
      },
      "execution_count": null,
      "outputs": [
        {
          "output_type": "stream",
          "name": "stdout",
          "text": [
            "['invalid', 'invalid', 'valid']\n"
          ]
        }
      ]
    },
    {
      "cell_type": "markdown",
      "source": [
        "***9. Wypisz dopasowania zawierające datę w formacie YYYY-MM-DD.***"
      ],
      "metadata": {
        "id": "kTWvX7EMUsi4"
      }
    },
    {
      "cell_type": "code",
      "source": [
        "print(re.findall(r'\\b\\d{4}-\\d{2}-\\d{2}\\b', text))"
      ],
      "metadata": {
        "colab": {
          "base_uri": "https://localhost:8080/"
        },
        "id": "b47T9Y_eTLAj",
        "outputId": "ddbac767-d840-48a4-e404-b8fe5c8b829b"
      },
      "execution_count": null,
      "outputs": [
        {
          "output_type": "stream",
          "name": "stdout",
          "text": [
            "['2023-01-17', '2025-03-06']\n"
          ]
        }
      ]
    },
    {
      "cell_type": "markdown",
      "source": [
        "***10. Wypisz dopasowania zawierające ścieżkę w formacie UNIX (/.../...).***"
      ],
      "metadata": {
        "id": "T0u5qZBoU33e"
      }
    },
    {
      "cell_type": "code",
      "source": [
        "print(re.findall(r'/[^\\s]+/[^\\s]+', text))"
      ],
      "metadata": {
        "colab": {
          "base_uri": "https://localhost:8080/"
        },
        "id": "72-br6-MUwiU",
        "outputId": "a6134f1f-1c42-4f0d-a64f-2fdd49f6be4d"
      },
      "execution_count": null,
      "outputs": [
        {
          "output_type": "stream",
          "name": "stdout",
          "text": [
            "['/etc/passwd:', '/users/test']\n"
          ]
        }
      ]
    },
    {
      "cell_type": "markdown",
      "source": [
        "***11. Wypisz linię zawierającą adres IP w wersji 4.***"
      ],
      "metadata": {
        "id": "T1XjvkmuU4ez"
      }
    },
    {
      "cell_type": "code",
      "source": [
        "print(re.findall(r'\\b(?:\\d{1,3}\\.){3}\\d{1,3}\\b', text))"
      ],
      "metadata": {
        "colab": {
          "base_uri": "https://localhost:8080/"
        },
        "id": "6tND0XCCTYyz",
        "outputId": "fe2173c2-04a7-4319-9cac-37827d6b4fa7"
      },
      "execution_count": null,
      "outputs": [
        {
          "output_type": "stream",
          "name": "stdout",
          "text": [
            "['192.168.0.1']\n"
          ]
        }
      ]
    },
    {
      "cell_type": "markdown",
      "source": [
        "***12. Wypisz tekst z każdego cytowania (tekst pomiędzy \" oraz \").***"
      ],
      "metadata": {
        "id": "ZCjMIXodU5LS"
      }
    },
    {
      "cell_type": "code",
      "source": [
        "print(re.findall(r'\"(.*?)\"', text))"
      ],
      "metadata": {
        "colab": {
          "base_uri": "https://localhost:8080/"
        },
        "id": "9qaB4YItTba1",
        "outputId": "c4b7d8ca-2ed0-4172-e5c8-269193ed474d"
      },
      "execution_count": null,
      "outputs": [
        {
          "output_type": "stream",
          "name": "stdout",
          "text": [
            "['Page not found', 'User admin logged in']\n"
          ]
        }
      ]
    },
    {
      "cell_type": "markdown",
      "source": [
        "***13. Wypisz linie, których długość to dokładnie 4 znaki.***"
      ],
      "metadata": {
        "id": "FxOkQpsdU5lK"
      }
    },
    {
      "cell_type": "code",
      "source": [
        "print(re.findall(r'^.{4}$', text, flags=re.MULTILINE))"
      ],
      "metadata": {
        "colab": {
          "base_uri": "https://localhost:8080/"
        },
        "id": "yoSnlFHTTfrM",
        "outputId": "f8de84db-6976-4494-89c8-c213ace6ccd4"
      },
      "execution_count": null,
      "outputs": [
        {
          "output_type": "stream",
          "name": "stdout",
          "text": [
            "['Ania', 'JOLA', '1000']\n"
          ]
        }
      ]
    }
  ]
}